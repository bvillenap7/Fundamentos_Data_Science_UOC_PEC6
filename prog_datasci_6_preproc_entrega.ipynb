{
 "cells": [
  {
   "cell_type": "markdown",
   "metadata": {},
   "source": [
    "# Programación para Data Science "
   ]
  },
  {
   "cell_type": "markdown",
   "metadata": {},
   "source": [
    "## Unidad 6: Preprocesamiento de datos en Python - Ejercicios para practicar \n"
   ]
  },
  {
   "cell_type": "markdown",
   "metadata": {},
   "source": [
    "Cargad los datos del fichero `bank_edited.csv` en un dataframe. Este conjunto de datos recoge datos sobre una campaña de márketing de un banco portugués. El conjunto original puede encontrarse en el [repositorio de datos de Machine Learning de la UC Irvine](http://archive.ics.uci.edu/ml/datasets/Bank+Marketing), pero el conjunto que usaremos tiene algunas modificaciones.\n",
    "\n",
    "Nota: revisad la documentación de la función [`read_csv`](https://pandas.pydata.org/pandas-docs/stable/generated/pandas.read_csv.html) para ver de qué parámetros disponemos para ajustar el proceso de carga de datos"
   ]
  },
  {
   "cell_type": "markdown",
   "metadata": {},
   "source": [
    "## Ejercicio 1\n",
    "\n",
    "Los valores del estado civil (atributo `marital`) contienen errores tipográficos e incluyen el uso de distintas nomenclaturas. En este ejercicio, unificaremos la nomenclatura de los valores de este atributo.\n",
    "\n",
    "a) ¿Cuántos valores distintos toma el atributo `marital` en el conjunto de datos? Mostrad cuáles son estos valores."
   ]
  },
  {
   "cell_type": "code",
   "execution_count": 1,
   "metadata": {},
   "outputs": [],
   "source": [
    "#Respuesta"
   ]
  },
  {
   "cell_type": "markdown",
   "metadata": {},
   "source": [
    "b) Unificad los valores del atributo `marital` para que sean únicamente: \"single\", \"married\" o \"divorced\"."
   ]
  },
  {
   "cell_type": "code",
   "execution_count": 5,
   "metadata": {},
   "outputs": [],
   "source": [
    "#Respuesta"
   ]
  },
  {
   "cell_type": "markdown",
   "metadata": {},
   "source": [
    "c) ¿Qué columnas contienen valores perdidos?"
   ]
  },
  {
   "cell_type": "code",
   "execution_count": 3,
   "metadata": {},
   "outputs": [],
   "source": [
    "# Respuesta"
   ]
  },
  {
   "cell_type": "markdown",
   "metadata": {},
   "source": [
    "d) Calcula el primero i el tercer cuartil del atributo \"balance\"."
   ]
  },
  {
   "cell_type": "code",
   "execution_count": 2,
   "metadata": {},
   "outputs": [],
   "source": [
    "# Respuesta "
   ]
  },
  {
   "cell_type": "markdown",
   "metadata": {},
   "source": [
    "## Ejercicio 2"
   ]
  },
  {
   "cell_type": "markdown",
   "metadata": {},
   "source": [
    "El atributo `poutcome` contiene información sobre si el cliente del banco contrató un depósito a largo plazo en el banco.  Calcula la correlación entre el atributo `poutcome` y el resto de atributos mediante la función ['corr'](http://pandas.pydata.org/pandas-docs/stable/generated/pandas.DataFrame.corr.html). ¿Cuál es la variable más correlacionada con`poutcome` ?"
   ]
  },
  {
   "cell_type": "code",
   "execution_count": 22,
   "metadata": {},
   "outputs": [],
   "source": [
    "# Respuesta"
   ]
  },
  {
   "cell_type": "markdown",
   "metadata": {},
   "source": [
    "# Ejercicios para la PEC"
   ]
  },
  {
   "cell_type": "markdown",
   "metadata": {},
   "source": [
    "A continuación encontraréis los ejercicios que debéis completar en esta PEC y que forman parte de la evaluación de esta unidad"
   ]
  },
  {
   "cell_type": "markdown",
   "metadata": {},
   "source": [
    "## Ejercicio 1\n",
    "\n",
    "Cargad los datos del fichero `Salarios.csv` en un dataframe. Este conjunto de datos recoge el salario académico de nueve meses de 2008-09 para profesores adjuntos, profesores asociados y profesores en una universidad de EUA. El conjunto original puede encontrarse en el [repositorio de datos del Departament d'Estadística i Investigació operativa de la Universitat Politècnica de Catalunya](http://www-eio.upc.edu/~pau/cms/rdata/datasets.html), pero el conjunto que usaremos tiene algunas modificaciones. **(Total 2 puntos)**\n",
    "\n",
    "Nota: Debes de eliminar la primera columna.  La primera columna corresponde al número de línea."
   ]
  },
  {
   "cell_type": "markdown",
   "metadata": {},
   "source": [
    "a) Listar la longitud del objecto `Salarios.csv` y el tipo de atributos que contiene. **(0,5 puntos)**"
   ]
  },
  {
   "cell_type": "code",
   "execution_count": 1,
   "metadata": {},
   "outputs": [],
   "source": [
    "#Respuesta"
   ]
  },
  {
   "cell_type": "markdown",
   "metadata": {},
   "source": [
    "b) Inputar los valores NA de la columna `Salary` con la media aritmética del salario. **(0,5 puntos)**"
   ]
  },
  {
   "cell_type": "code",
   "execution_count": 2,
   "metadata": {},
   "outputs": [],
   "source": [
    "#Respuesta"
   ]
  },
  {
   "cell_type": "markdown",
   "metadata": {},
   "source": [
    "c) Cread dos nuevas columnas, `disc_1` y `disc_2`,  en el dataframe con el resultado de discretizar el artributo `salary`. La columna `disc_1` contendrá la discretización en 10 intervalos que contengan el mismo número de elementos cada uno. La columna `disc_2` contendrá la discretización en 10 intervalos del mismo tamaño. Imprimir por pantalla las columnas `salary`, `disc_1` y `disc_2` de los 20 primeros ítems.   **(1 punto)**"
   ]
  },
  {
   "cell_type": "code",
   "execution_count": 3,
   "metadata": {},
   "outputs": [],
   "source": [
    "#Respuesta"
   ]
  },
  {
   "cell_type": "raw",
   "metadata": {},
   "source": []
  },
  {
   "cell_type": "markdown",
   "metadata": {},
   "source": [
    "## Ejercicio 2\n",
    "\n",
    "Crea 3 nuevos atributos binarios (`Salary_T1`,`Salary_T2`, `Salary_T3`) que indiquen en qué tercil se encuentra el valor de salario de cada muestra. Así, para una muestra con un valor de salario en el segundo tercil, el atributo `Salary_T2` será 1 y los atributos `Salary_T1` y `Salary_T3` serán 0. Computa el número de profesores en cada tercil agrupando según su género. **(2 puntos)**\n",
    "\n",
    "Nota: Usa el dataframe con los NA imputados con la media aritmética del salario."
   ]
  },
  {
   "cell_type": "code",
   "execution_count": 4,
   "metadata": {},
   "outputs": [],
   "source": [
    "#Respuesta"
   ]
  },
  {
   "cell_type": "markdown",
   "metadata": {},
   "source": [
    "## Ejercicio 3\n"
   ]
  },
  {
   "cell_type": "markdown",
   "metadata": {},
   "source": [
    "Selecciona aleatoriamente un subconjunto mínimo de 60 muestras del dataframe, de manera que el dataframe resultante esté balanceado con respecto al atributo `type`.  El nuevo dataframe debe tener el mismo número de muestras para cada posible valor del atributo `type`. **(2 puntos)**"
   ]
  },
  {
   "cell_type": "code",
   "execution_count": 5,
   "metadata": {},
   "outputs": [],
   "source": [
    "#Respuesta"
   ]
  },
  {
   "cell_type": "markdown",
   "metadata": {},
   "source": [
    "## Ejercicio 4"
   ]
  },
  {
   "cell_type": "markdown",
   "metadata": {},
   "source": [
    "Cargad los datos del fichero `Baseball.csv` en un dataframe.  Este conjunto de datos recoge 322 observaciones y 25 variables de la liga de Beisbol en EUA. El conjunto original puede encontrarse en el [repositorio de datos del Departament d'Estadística i Investigació operativa de la Universitat Politècnica de Catalunya](http://www-eio.upc.edu/~pau/cms/rdata/datasets.html), pero el conjunto que usaremos tiene algunas modificaciones. **(Total 2 puntos)**\n",
    "\n",
    "Nota: Debes de eliminar la primera columna.  La primera columna corresponde al número de línea."
   ]
  },
  {
   "cell_type": "markdown",
   "metadata": {},
   "source": [
    "a) Definid una función para calcular el número de muestras que tienen al menos dos valores perdidos. ¿ Cúantos muestras tienen al menos dos valores perdidos? **(0,5 puntos)**"
   ]
  },
  {
   "cell_type": "code",
   "execution_count": 6,
   "metadata": {},
   "outputs": [],
   "source": [
    "#Respuesta"
   ]
  },
  {
   "cell_type": "markdown",
   "metadata": {},
   "source": [
    " b) Eliminad las muestras que tengan algún valor perdido en cualquiera de los atributos. **(0,5 puntos)**"
   ]
  },
  {
   "cell_type": "code",
   "execution_count": 8,
   "metadata": {},
   "outputs": [],
   "source": [
    "#Respuesta"
   ]
  },
  {
   "cell_type": "markdown",
   "metadata": {},
   "source": [
    "c) Definid una función que seleccione aquellas filas que no contegan valores atípicos (*outliers*) para un determinado atributo. Aplicar el significado de valor [atípico leve](https://es.wikipedia.org/wiki/Valor_atípico). Los parámetros de entrada de la función deben ser el dataframe original y el nombre de la columna a evaluar. La función tiene que devolver el dataframe modificado (si corresponde), eliminando las filas que tengan valores atípicos en el atributo indicado.  Utilizad la función anterior para calcular el número de valores no atípicos que tiene el atributo `outs86`. **( 1 punto)**"
   ]
  },
  {
   "cell_type": "code",
   "execution_count": 9,
   "metadata": {},
   "outputs": [],
   "source": [
    "#Respuesta"
   ]
  },
  {
   "cell_type": "markdown",
   "metadata": {},
   "source": [
    "## Ejercicio 5"
   ]
  },
  {
   "cell_type": "markdown",
   "metadata": {},
   "source": [
    "Define una función para normalizar (escalar los valores entre [0,1]) un dataframe mediante la aproximación del Mín y Max. ```(eq 1)\n",
    "X'=(X-Xmin)/(Xmax-Xmin)\n",
    "```\n",
    ". Aplícalo a los datos del fichero `Baseball.csv` con valores perdidos eliminados y seleccionando los datos númericos. **(2 puntos)**"
   ]
  },
  {
   "cell_type": "code",
   "execution_count": 10,
   "metadata": {},
   "outputs": [],
   "source": [
    "#Respuesta"
   ]
  },
  {
   "cell_type": "markdown",
   "metadata": {},
   "source": [
    "## Ejercicio Opcional\n",
    "\n"
   ]
  },
  {
   "cell_type": "markdown",
   "metadata": {},
   "source": [
    "A partir de los datos del fichero `Baseball.csv` crudos, obtener los valores de [covarianza](https://es.wikipedia.org/wiki/Covarianza) de las diferentes atributos y representar mediante un [heatmap](https://en.wikipedia.org/wiki/Heat_map) los valores de covarianza obtenidos. \n",
    "\n",
    "Pista: Quizás la función cov (http://pandas.pydata.org/pandas-docs/stable/generated/pandas.DataFrame.cov.html) de pandas puede ser de utilidad.\n",
    "\n"
   ]
  },
  {
   "cell_type": "code",
   "execution_count": 11,
   "metadata": {},
   "outputs": [],
   "source": [
    "#Respuesta"
   ]
  },
  {
   "cell_type": "markdown",
   "metadata": {},
   "source": [
    "## Soluciones a los ejercicios para practicar"
   ]
  },
  {
   "cell_type": "markdown",
   "metadata": {},
   "source": [
    "## Ejercicio 1"
   ]
  },
  {
   "cell_type": "markdown",
   "metadata": {},
   "source": [
    "a) ¿Cuántos valores distintos toma el atributo marital en el conjunto de datos? Mostrad cuáles son estos valores."
   ]
  },
  {
   "cell_type": "code",
   "execution_count": 24,
   "metadata": {},
   "outputs": [
    {
     "name": "stdout",
     "output_type": "stream",
     "text": [
      "There are 11 different values in marital:\n",
      "['married' 'single' 'marrid' 'divorced' 'maried' 'sing' 'Married' 'MARRIED'\n",
      " 'DIVORCED' 'Single' 'SINGLE']\n"
     ]
    }
   ],
   "source": [
    "import pandas as pd\n",
    "import numpy as np\n",
    "\n",
    "data = pd.read_csv(\"data/bank_edited.csv\", sep=\";\", dtype={\"balance\":np.float})\n",
    "\n",
    "import numpy as np\n",
    "\n",
    "# Utilizamos unique para recuperar los valores únicos:\n",
    "v = data.marital.unique()\n",
    "\n",
    "print \"There are {} different values in marital:\\n{}\".format(len(v), v)\n"
   ]
  },
  {
   "cell_type": "markdown",
   "metadata": {},
   "source": [
    " b) Unificad los valores del atributo marital para sean únicamente: \"single\", \"married\" o \"divorced\"."
   ]
  },
  {
   "cell_type": "code",
   "execution_count": 40,
   "metadata": {},
   "outputs": [
    {
     "name": "stdout",
     "output_type": "stream",
     "text": [
      "There are 3 different values in marital:\n",
      "['married' 'single' 'divorced']\n"
     ]
    }
   ],
   "source": [
    "data.loc[(data.marital == \"Married\") | (data.marital == \"maried\") | (data.marital == \"MARRIED\") | \n",
    "         (data.marital == \"marrid\"), \"marital\"] = \"married\"\n",
    "data.loc[(data.marital == \"Single\") | (data.marital == \"SINGLE\") | (data.marital == \"sing\"), \"marital\"] = \"single\"\n",
    "data.loc[(data.marital == \"DIVORCED\"), \"marital\"] = \"divorced\"\n",
    "\n",
    "# Comprobación\n",
    "\n",
    "v = data.marital.unique()\n",
    "print \"There are {} different values in marital:\\n{}\".format(len(v), v)\n"
   ]
  },
  {
   "cell_type": "markdown",
   "metadata": {},
   "source": [
    "c) ¿Qué columnas contienen valores perdidos?"
   ]
  },
  {
   "cell_type": "code",
   "execution_count": 26,
   "metadata": {},
   "outputs": [
    {
     "name": "stdout",
     "output_type": "stream",
     "text": [
      "age          False\n",
      "job          False\n",
      "marital      False\n",
      "education    False\n",
      "default      False\n",
      "balance       True\n",
      "housing      False\n",
      "loan         False\n",
      "contact      False\n",
      "day           True\n",
      "month        False\n",
      "duration      True\n",
      "campaign     False\n",
      "pdays        False\n",
      "previous     False\n",
      "poutcome     False\n",
      "y            False\n",
      "dtype: bool\n"
     ]
    }
   ],
   "source": [
    "# Aplicamos la función any_isna a cada columna del dataframe \n",
    "print data.isna().any()\n"
   ]
  },
  {
   "cell_type": "code",
   "execution_count": null,
   "metadata": {},
   "outputs": [],
   "source": [
    "d) Calcula el primero i el tercer cuartil del atributo \"balance\"."
   ]
  },
  {
   "cell_type": "code",
   "execution_count": 25,
   "metadata": {},
   "outputs": [
    {
     "name": "stdout",
     "output_type": "stream",
     "text": [
      "68.0\n",
      "1476.0\n"
     ]
    }
   ],
   "source": [
    "print data['balance'].quantile(0.25)\n",
    "print data['balance'].quantile(0.75)"
   ]
  },
  {
   "cell_type": "markdown",
   "metadata": {},
   "source": [
    "# Ejercicio 2"
   ]
  },
  {
   "cell_type": "markdown",
   "metadata": {},
   "source": [
    "El atributo `poutcome` contiene información sobre si el cliente del banco contrató un depósito a largo plazo en el banco.  Calcula la correlación entre el atributo `poutcome` y el resto de atributos mediante la función ['corr'](http://pandas.pydata.org/pandas-docs/stable/generated/pandas.DataFrame.corr.html). ¿Cuál es la variable más correlacionada con`poutcome` ?"
   ]
  },
  {
   "cell_type": "code",
   "execution_count": 28,
   "metadata": {},
   "outputs": [
    {
     "data": {
      "text/plain": [
       "array(['unknown', 'failure', 'other', 'success'], dtype=object)"
      ]
     },
     "execution_count": 28,
     "metadata": {},
     "output_type": "execute_result"
    }
   ],
   "source": [
    "# Respuesta\n",
    "\n",
    "# Visualizamos los valores de la columna poutcome\n",
    "import pandas as pd\n",
    "import numpy as np\n",
    "import warnings\n",
    "warnings.filterwarnings('ignore')\n",
    "\n",
    "data.poutcome.unique()"
   ]
  },
  {
   "cell_type": "code",
   "execution_count": 29,
   "metadata": {},
   "outputs": [
    {
     "data": {
      "text/plain": [
       "age             0.090540\n",
       "balance         0.039791\n",
       "day             0.009252\n",
       "duration        0.142385\n",
       "campaign       -0.059986\n",
       "pdays          -0.276853\n",
       "previous        0.023411\n",
       "poutcome_cat    1.000000\n",
       "Name: poutcome_cat, dtype: float64"
      ]
     },
     "execution_count": 29,
     "metadata": {},
     "output_type": "execute_result"
    }
   ],
   "source": [
    "#Seleccionamos únicamente las muestras que contengan información precisa sobre si el cliente va contractó o no el depósit\n",
    "\n",
    "data_pout = data[data.poutcome.isin((\"failure\",\"success\"))]\n",
    "\n",
    "# Discretitzamos la columna poutcome para poder calcular la correlación\n",
    "\n",
    "data_pout['poutcome_cat'] = data_pout.poutcome.astype(\"category\").cat.codes\n",
    "\n",
    "#Calculamos la correlación poutcome_cat con el resto de columnas\n",
    "\n",
    "data_pout.corr()[\"poutcome_cat\"]"
   ]
  },
  {
   "cell_type": "markdown",
   "metadata": {},
   "source": [
    "Seleccionamos la columna `pdays` por tener mayor correlación con poutcome_cat.  Notad que la correlación en esto caso es negativa, pero como hemos asignado un 0 o un 1 \"failure\" y \"succes\" de forma arbitrária, el signo no es significativo en este caso."
   ]
  }
 ],
 "metadata": {
  "kernelspec": {
   "display_name": "Python 2",
   "language": "python",
   "name": "python2"
  },
  "language_info": {
   "codemirror_mode": {
    "name": "ipython",
    "version": 2
   },
   "file_extension": ".py",
   "mimetype": "text/x-python",
   "name": "python",
   "nbconvert_exporter": "python",
   "pygments_lexer": "ipython2",
   "version": "2.7.13"
  }
 },
 "nbformat": 4,
 "nbformat_minor": 1
}
