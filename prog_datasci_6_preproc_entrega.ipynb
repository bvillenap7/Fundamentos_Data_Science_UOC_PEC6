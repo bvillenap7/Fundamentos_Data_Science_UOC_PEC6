{
 "metadata": {
  "kernelspec": {
   "display_name": "Python 2",
   "language": "python",
   "name": "python2"
  },
  "language_info": {
   "codemirror_mode": {
    "name": "ipython",
    "version": 2
   },
   "file_extension": ".py",
   "mimetype": "text/x-python",
   "name": "python",
   "nbconvert_exporter": "python",
   "pygments_lexer": "ipython2",
   "version": "2.7.13"
  },
  "name": "",
  "signature": "sha256:3725d3c58d967cbab33b45854ae8a83099548593a2f6e84ffdebf8881c71ee60"
 },
 "nbformat": 3,
 "nbformat_minor": 0,
 "worksheets": [
  {
   "cells": [
    {
     "cell_type": "heading",
     "level": 1,
     "metadata": {},
     "source": [
      "Programaci\u00f3n para Data Science "
     ]
    },
    {
     "cell_type": "markdown",
     "metadata": {},
     "source": [
      "## Unidad 6: Preprocesamiento de datos en Python - Ejercicios para practicar \n"
     ]
    },
    {
     "cell_type": "markdown",
     "metadata": {},
     "source": [
      "Cargad los datos del fichero `bank_edited.csv` en un dataframe. Este conjunto de datos recoge datos sobre una campa\u00f1a de m\u00e1rketing de un banco portugu\u00e9s. El conjunto original puede encontrarse en el [repositorio de datos de Machine Learning de la UC Irvine](http://archive.ics.uci.edu/ml/datasets/Bank+Marketing), pero el conjunto que usaremos tiene algunas modificaciones.\n",
      "\n",
      "Nota: revisad la documentaci\u00f3n de la funci\u00f3n [`read_csv`](https://pandas.pydata.org/pandas-docs/stable/generated/pandas.read_csv.html) para ver de qu\u00e9 par\u00e1metros disponemos para ajustar el proceso de carga de datos"
     ]
    },
    {
     "cell_type": "markdown",
     "metadata": {},
     "source": [
      "## Ejercicio 1\n",
      "\n",
      "Los valores del estado civil (atributo `marital`) contienen errores tipogr\u00e1ficos e incluyen el uso de distintas nomenclaturas. En este ejercicio, unificaremos la nomenclatura de los valores de este atributo.\n",
      "\n",
      "a) \u00bfCu\u00e1ntos valores distintos toma el atributo `marital` en el conjunto de datos? Mostrad cu\u00e1les son estos valores."
     ]
    },
    {
     "cell_type": "code",
     "collapsed": false,
     "input": [
      "#Respuesta"
     ],
     "language": "python",
     "metadata": {},
     "outputs": [],
     "prompt_number": 1
    },
    {
     "cell_type": "markdown",
     "metadata": {},
     "source": [
      "b) Unificad los valores del atributo `marital` para que sean \u00fanicamente: \"single\", \"married\" o \"divorced\"."
     ]
    },
    {
     "cell_type": "code",
     "collapsed": false,
     "input": [
      "#Respuesta"
     ],
     "language": "python",
     "metadata": {},
     "outputs": [],
     "prompt_number": 5
    },
    {
     "cell_type": "markdown",
     "metadata": {},
     "source": [
      "c) \u00bfQu\u00e9 columnas contienen valores perdidos?"
     ]
    },
    {
     "cell_type": "code",
     "collapsed": false,
     "input": [
      "# Respuesta"
     ],
     "language": "python",
     "metadata": {},
     "outputs": [],
     "prompt_number": 3
    },
    {
     "cell_type": "markdown",
     "metadata": {},
     "source": [
      "d) Calcula el primero i el tercer cuartil del atributo \"balance\"."
     ]
    },
    {
     "cell_type": "code",
     "collapsed": false,
     "input": [
      "# Respuesta "
     ],
     "language": "python",
     "metadata": {},
     "outputs": [],
     "prompt_number": 2
    },
    {
     "cell_type": "heading",
     "level": 2,
     "metadata": {},
     "source": [
      "Ejercicio 2"
     ]
    },
    {
     "cell_type": "markdown",
     "metadata": {},
     "source": [
      "El atributo `poutcome` contiene informaci\u00f3n sobre si el cliente del banco contrat\u00f3 un dep\u00f3sito a largo plazo en el banco.  Calcula la correlaci\u00f3n entre el atributo `poutcome` y el resto de atributos mediante la funci\u00f3n ['corr'](http://pandas.pydata.org/pandas-docs/stable/generated/pandas.DataFrame.corr.html). \u00bfCu\u00e1l es la variable m\u00e1s correlacionada con`poutcome` ?"
     ]
    },
    {
     "cell_type": "code",
     "collapsed": false,
     "input": [
      "# Respuesta"
     ],
     "language": "python",
     "metadata": {},
     "outputs": [],
     "prompt_number": 22
    },
    {
     "cell_type": "heading",
     "level": 1,
     "metadata": {},
     "source": [
      "Ejercicios para la PEC"
     ]
    },
    {
     "cell_type": "markdown",
     "metadata": {},
     "source": [
      "A continuaci\u00f3n encontrar\u00e9is los ejercicios que deb\u00e9is completar en esta PEC y que forman parte de la evaluaci\u00f3n de esta unidad"
     ]
    },
    {
     "cell_type": "markdown",
     "metadata": {},
     "source": [
      "## Ejercicio 1\n",
      "\n",
      "Cargad los datos del fichero `Salarios.csv` en un dataframe. Este conjunto de datos recoge el salario acad\u00e9mico de nueve meses de 2008-09 para profesores adjuntos, profesores asociados y profesores en una universidad de EUA. El conjunto original puede encontrarse en el [repositorio de datos del Departament d'Estad\u00edstica i Investigaci\u00f3 operativa de la Universitat Polit\u00e8cnica de Catalunya](http://www-eio.upc.edu/~pau/cms/rdata/datasets.html), pero el conjunto que usaremos tiene algunas modificaciones. **(Total 2 puntos)**\n",
      "\n",
      "Nota: Debes de eliminar la primera columna.  La primera columna corresponde al n\u00famero de l\u00ednea."
     ]
    },
    {
     "cell_type": "markdown",
     "metadata": {},
     "source": [
      "a) Listar la longitud del objecto `Salarios.csv` y el tipo de atributos que contiene. **(0,5 puntos)**"
     ]
    },
    {
     "cell_type": "code",
     "collapsed": false,
     "input": [
      "#Respuesta"
     ],
     "language": "python",
     "metadata": {},
     "outputs": [],
     "prompt_number": 1
    },
    {
     "cell_type": "markdown",
     "metadata": {},
     "source": [
      "b) Inputar los valores NA de la columna `Salary` con la media aritm\u00e9tica del salario. **(0,5 puntos)**"
     ]
    },
    {
     "cell_type": "code",
     "collapsed": false,
     "input": [
      "#Respuesta"
     ],
     "language": "python",
     "metadata": {},
     "outputs": [],
     "prompt_number": 2
    },
    {
     "cell_type": "markdown",
     "metadata": {},
     "source": [
      "c) Cread dos nuevas columnas, `disc_1` y `disc_2`,  en el dataframe con el resultado de discretizar el artributo `salary`. La columna `disc_1` contendr\u00e1 la discretizaci\u00f3n en 10 intervalos que contengan el mismo n\u00famero de elementos cada uno. La columna `disc_2` contendr\u00e1 la discretizaci\u00f3n en 10 intervalos del mismo tama\u00f1o. Imprimir por pantalla las columnas `salary`, `disc_1` y `disc_2` de los 20 primeros \u00edtems.   **(1 punto)**"
     ]
    },
    {
     "cell_type": "code",
     "collapsed": false,
     "input": [
      "#Respuesta"
     ],
     "language": "python",
     "metadata": {},
     "outputs": [],
     "prompt_number": 3
    },
    {
     "cell_type": "raw",
     "metadata": {},
     "source": []
    },
    {
     "cell_type": "markdown",
     "metadata": {},
     "source": [
      "## Ejercicio 2\n",
      "\n",
      "Crea 3 nuevos atributos binarios (`Salary_T1`,`Salary_T2`, `Salary_T3`) que indiquen en qu\u00e9 tercil se encuentra el valor de salario de cada muestra. As\u00ed, para una muestra con un valor de salario en el segundo tercil, el atributo `Salary_T2` ser\u00e1 1 y los atributos `Salary_T1` y `Salary_T3` ser\u00e1n 0. Computa el n\u00famero de profesores en cada tercil agrupando seg\u00fan su g\u00e9nero. **(2 puntos)**\n",
      "\n",
      "Nota: Usa el dataframe con los NA imputados con la media aritm\u00e9tica del salario."
     ]
    },
    {
     "cell_type": "code",
     "collapsed": false,
     "input": [
      "#Respuesta"
     ],
     "language": "python",
     "metadata": {},
     "outputs": [],
     "prompt_number": 4
    },
    {
     "cell_type": "markdown",
     "metadata": {},
     "source": [
      "## Ejercicio 3\n"
     ]
    },
    {
     "cell_type": "markdown",
     "metadata": {},
     "source": [
      "Selecciona aleatoriamente un subconjunto m\u00ednimo de 60 muestras del dataframe, de manera que el dataframe resultante est\u00e9 balanceado con respecto al atributo `type`.  El nuevo dataframe debe tener el mismo n\u00famero de muestras para cada posible valor del atributo `type`. **(2 puntos)**"
     ]
    },
    {
     "cell_type": "code",
     "collapsed": false,
     "input": [
      "#Respuesta"
     ],
     "language": "python",
     "metadata": {},
     "outputs": [],
     "prompt_number": 5
    },
    {
     "cell_type": "heading",
     "level": 2,
     "metadata": {},
     "source": [
      "Ejercicio 4"
     ]
    },
    {
     "cell_type": "markdown",
     "metadata": {},
     "source": [
      "Cargad los datos del fichero `Baseball.csv` en un dataframe.  Este conjunto de datos recoge 322 observaciones y 25 variables de la liga de Beisbol en EUA. El conjunto original puede encontrarse en el [repositorio de datos del Departament d'Estad\u00edstica i Investigaci\u00f3 operativa de la Universitat Polit\u00e8cnica de Catalunya](http://www-eio.upc.edu/~pau/cms/rdata/datasets.html), pero el conjunto que usaremos tiene algunas modificaciones. **(Total 2 puntos)**\n",
      "\n",
      "Nota: Debes de eliminar la primera columna.  La primera columna corresponde al n\u00famero de l\u00ednea."
     ]
    },
    {
     "cell_type": "markdown",
     "metadata": {},
     "source": [
      "a) Definid una funci\u00f3n para calcular el n\u00famero de muestras que tienen al menos dos valores perdidos. \u00bf C\u00faantos muestras tienen al menos dos valores perdidos? **(0,5 puntos)**"
     ]
    },
    {
     "cell_type": "code",
     "collapsed": false,
     "input": [
      "#Respuesta"
     ],
     "language": "python",
     "metadata": {},
     "outputs": [],
     "prompt_number": 6
    },
    {
     "cell_type": "markdown",
     "metadata": {},
     "source": [
      " b) Eliminad las muestras que tengan alg\u00fan valor perdido en cualquiera de los atributos. **(0,5 puntos)**"
     ]
    },
    {
     "cell_type": "code",
     "collapsed": false,
     "input": [
      "#Respuesta"
     ],
     "language": "python",
     "metadata": {},
     "outputs": [],
     "prompt_number": 8
    },
    {
     "cell_type": "markdown",
     "metadata": {},
     "source": [
      "c) Definid una funci\u00f3n que seleccione aquellas filas que no contegan valores at\u00edpicos (*outliers*) para un determinado atributo. Aplicar el significado de valor [at\u00edpico leve](https://es.wikipedia.org/wiki/Valor_at\u00edpico). Los par\u00e1metros de entrada de la funci\u00f3n deben ser el dataframe original y el nombre de la columna a evaluar. La funci\u00f3n tiene que devolver el dataframe modificado (si corresponde), eliminando las filas que tengan valores at\u00edpicos en el atributo indicado.  Utilizad la funci\u00f3n anterior para calcular el n\u00famero de valores no at\u00edpicos que tiene el atributo `outs86`. **( 1 punto)**"
     ]
    },
    {
     "cell_type": "code",
     "collapsed": false,
     "input": [
      "#Respuesta"
     ],
     "language": "python",
     "metadata": {},
     "outputs": [],
     "prompt_number": 9
    },
    {
     "cell_type": "heading",
     "level": 2,
     "metadata": {},
     "source": [
      "Ejercicio 5"
     ]
    },
    {
     "cell_type": "markdown",
     "metadata": {},
     "source": [
      "Define una funci\u00f3n para normalizar (escalar los valores entre [0,1]) un dataframe mediante la aproximaci\u00f3n del M\u00edn y Max. ```(eq 1)\n",
      "X'=(X-Xmin)/(Xmax-Xmin)\n",
      "```\n",
      ". Apl\u00edcalo a los datos del fichero `Baseball.csv` con valores perdidos eliminados y seleccionando los datos n\u00famericos. **(2 puntos)**"
     ]
    },
    {
     "cell_type": "code",
     "collapsed": false,
     "input": [
      "#Respuesta"
     ],
     "language": "python",
     "metadata": {},
     "outputs": [],
     "prompt_number": 10
    },
    {
     "cell_type": "markdown",
     "metadata": {},
     "source": [
      "## Ejercicio Opcional\n",
      "\n"
     ]
    },
    {
     "cell_type": "markdown",
     "metadata": {},
     "source": [
      "A partir de los datos del fichero `Baseball.csv` crudos, obtener los valores de [covarianza](https://es.wikipedia.org/wiki/Covarianza) de las diferentes atributos y representar mediante un [heatmap](https://en.wikipedia.org/wiki/Heat_map) los valores de covarianza obtenidos. \n",
      "\n",
      "Pista: Quiz\u00e1s la funci\u00f3n cov (http://pandas.pydata.org/pandas-docs/stable/generated/pandas.DataFrame.cov.html) de pandas puede ser de utilidad.\n",
      "\n"
     ]
    },
    {
     "cell_type": "code",
     "collapsed": false,
     "input": [
      "#Respuesta"
     ],
     "language": "python",
     "metadata": {},
     "outputs": [],
     "prompt_number": 11
    },
    {
     "cell_type": "heading",
     "level": 2,
     "metadata": {},
     "source": [
      "Soluciones a los ejercicios para practicar"
     ]
    },
    {
     "cell_type": "heading",
     "level": 2,
     "metadata": {},
     "source": [
      "Ejercicio 1"
     ]
    },
    {
     "cell_type": "markdown",
     "metadata": {},
     "source": [
      "a) \u00bfCu\u00e1ntos valores distintos toma el atributo marital en el conjunto de datos? Mostrad cu\u00e1les son estos valores."
     ]
    },
    {
     "cell_type": "code",
     "collapsed": false,
     "input": [
      "import pandas as pd\n",
      "import numpy as np\n",
      "\n",
      "data = pd.read_csv(\"data/bank_edited.csv\", sep=\";\", dtype={\"balance\":np.float})\n",
      "\n",
      "import numpy as np\n",
      "\n",
      "# Utilizamos unique para recuperar los valores \u00fanicos:\n",
      "v = data.marital.unique()\n",
      "\n",
      "print \"There are {} different values in marital:\\n{}\".format(len(v), v)\n"
     ],
     "language": "python",
     "metadata": {},
     "outputs": [
      {
       "output_type": "stream",
       "stream": "stdout",
       "text": [
        "There are 11 different values in marital:\n",
        "['married' 'single' 'marrid' 'divorced' 'maried' 'sing' 'Married' 'MARRIED'\n",
        " 'DIVORCED' 'Single' 'SINGLE']\n"
       ]
      }
     ],
     "prompt_number": 24
    },
    {
     "cell_type": "markdown",
     "metadata": {},
     "source": [
      " b) Unificad los valores del atributo marital para sean \u00fanicamente: \"single\", \"married\" o \"divorced\"."
     ]
    },
    {
     "cell_type": "code",
     "collapsed": false,
     "input": [
      "data.loc[(data.marital == \"Married\") | (data.marital == \"maried\") | (data.marital == \"MARRIED\") | \n",
      "         (data.marital == \"marrid\"), \"marital\"] = \"married\"\n",
      "data.loc[(data.marital == \"Single\") | (data.marital == \"SINGLE\") | (data.marital == \"sing\"), \"marital\"] = \"single\"\n",
      "data.loc[(data.marital == \"DIVORCED\"), \"marital\"] = \"divorced\"\n",
      "\n",
      "# Comprobaci\u00f3n\n",
      "\n",
      "v = data.marital.unique()\n",
      "print \"There are {} different values in marital:\\n{}\".format(len(v), v)\n"
     ],
     "language": "python",
     "metadata": {},
     "outputs": [
      {
       "output_type": "stream",
       "stream": "stdout",
       "text": [
        "There are 3 different values in marital:\n",
        "['married' 'single' 'divorced']\n"
       ]
      }
     ],
     "prompt_number": 40
    },
    {
     "cell_type": "markdown",
     "metadata": {},
     "source": [
      "c) \u00bfQu\u00e9 columnas contienen valores perdidos?"
     ]
    },
    {
     "cell_type": "code",
     "collapsed": false,
     "input": [
      "# Aplicamos la funci\u00f3n any_isna a cada columna del dataframe \n",
      "print data.isna().any()\n"
     ],
     "language": "python",
     "metadata": {},
     "outputs": [
      {
       "output_type": "stream",
       "stream": "stdout",
       "text": [
        "age          False\n",
        "job          False\n",
        "marital      False\n",
        "education    False\n",
        "default      False\n",
        "balance       True\n",
        "housing      False\n",
        "loan         False\n",
        "contact      False\n",
        "day           True\n",
        "month        False\n",
        "duration      True\n",
        "campaign     False\n",
        "pdays        False\n",
        "previous     False\n",
        "poutcome     False\n",
        "y            False\n",
        "dtype: bool\n"
       ]
      }
     ],
     "prompt_number": 26
    },
    {
     "cell_type": "code",
     "collapsed": false,
     "input": [
      "d) Calcula el primero i el tercer cuartil del atributo \"balance\"."
     ],
     "language": "python",
     "metadata": {},
     "outputs": [],
     "prompt_number": null
    },
    {
     "cell_type": "code",
     "collapsed": false,
     "input": [
      "print data['balance'].quantile(0.25)\n",
      "print data['balance'].quantile(0.75)"
     ],
     "language": "python",
     "metadata": {},
     "outputs": [
      {
       "output_type": "stream",
       "stream": "stdout",
       "text": [
        "68.0\n",
        "1476.0\n"
       ]
      }
     ],
     "prompt_number": 25
    },
    {
     "cell_type": "heading",
     "level": 1,
     "metadata": {},
     "source": [
      "Ejercicio 2"
     ]
    },
    {
     "cell_type": "markdown",
     "metadata": {},
     "source": [
      "El atributo `poutcome` contiene informaci\u00f3n sobre si el cliente del banco contrat\u00f3 un dep\u00f3sito a largo plazo en el banco.  Calcula la correlaci\u00f3n entre el atributo `poutcome` y el resto de atributos mediante la funci\u00f3n ['corr'](http://pandas.pydata.org/pandas-docs/stable/generated/pandas.DataFrame.corr.html). \u00bfCu\u00e1l es la variable m\u00e1s correlacionada con`poutcome` ?"
     ]
    },
    {
     "cell_type": "code",
     "collapsed": false,
     "input": [
      "# Respuesta\n",
      "\n",
      "# Visualizamos los valores de la columna poutcome\n",
      "import pandas as pd\n",
      "import numpy as np\n",
      "import warnings\n",
      "warnings.filterwarnings('ignore')\n",
      "\n",
      "data.poutcome.unique()"
     ],
     "language": "python",
     "metadata": {},
     "outputs": [
      {
       "metadata": {},
       "output_type": "pyout",
       "prompt_number": 28,
       "text": [
        "array(['unknown', 'failure', 'other', 'success'], dtype=object)"
       ]
      }
     ],
     "prompt_number": 28
    },
    {
     "cell_type": "code",
     "collapsed": false,
     "input": [
      "#Seleccionamos \u00fanicamente las muestras que contengan informaci\u00f3n precisa sobre si el cliente va contract\u00f3 o no el dep\u00f3sit\n",
      "\n",
      "data_pout = data[data.poutcome.isin((\"failure\",\"success\"))]\n",
      "\n",
      "# Discretitzamos la columna poutcome para poder calcular la correlaci\u00f3n\n",
      "\n",
      "data_pout['poutcome_cat'] = data_pout.poutcome.astype(\"category\").cat.codes\n",
      "\n",
      "#Calculamos la correlaci\u00f3n poutcome_cat con el resto de columnas\n",
      "\n",
      "data_pout.corr()[\"poutcome_cat\"]"
     ],
     "language": "python",
     "metadata": {},
     "outputs": [
      {
       "metadata": {},
       "output_type": "pyout",
       "prompt_number": 29,
       "text": [
        "age             0.090540\n",
        "balance         0.039791\n",
        "day             0.009252\n",
        "duration        0.142385\n",
        "campaign       -0.059986\n",
        "pdays          -0.276853\n",
        "previous        0.023411\n",
        "poutcome_cat    1.000000\n",
        "Name: poutcome_cat, dtype: float64"
       ]
      }
     ],
     "prompt_number": 29
    },
    {
     "cell_type": "markdown",
     "metadata": {},
     "source": [
      "Seleccionamos la columna `pdays` por tener mayor correlaci\u00f3n con poutcome_cat.  Notad que la correlaci\u00f3n en esto caso es negativa, pero como hemos asignado un 0 o un 1 \"failure\" y \"succes\" de forma arbitr\u00e1ria, el signo no es significativo en este caso."
     ]
    }
   ],
   "metadata": {}
  }
 ]
}