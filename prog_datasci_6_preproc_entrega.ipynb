{
 "metadata": {
  "name": "",
  "signature": "sha256:531473a5f216ed69912f5acd5fea0588beae73433c66217ba97c7721a1449191"
 },
 "nbformat": 3,
 "nbformat_minor": 0,
 "worksheets": [
  {
   "cells": [
    {
     "cell_type": "heading",
     "level": 1,
     "metadata": {},
     "source": [
      "Programaci\u00f3n para Data Science"
     ]
    },
    {
     "cell_type": "markdown",
     "metadata": {},
     "source": [
      "Unidad 6: Preprocesamiento de datos en Python - Ejercicios\n",
      "------------------------------------------------------"
     ]
    },
    {
     "cell_type": "markdown",
     "metadata": {},
     "source": [
      "Cargad los datos del fichero `bank_edited.csv` en un dataframe. Este conjunto de datos recoge datos sobre una campa\u00f1a de m\u00e1rketing de un banco portugu\u00e9s. El conjunto original puede encontrarse en el [repositorio de datos de Machine Learning de la UC Irvine](http://archive.ics.uci.edu/ml/datasets/Bank+Marketing), pero el conjunto que usaremos tiene algunas modificaciones.\n",
      "\n",
      "Nota: revisad la documentaci\u00f3n de la funci\u00f3n [`read_csv`](https://pandas.pydata.org/pandas-docs/stable/generated/pandas.read_csv.html) para ver de qu\u00e9 par\u00e1metros disponemos para ajustar el proceso de carga de datos"
     ]
    },
    {
     "cell_type": "code",
     "collapsed": false,
     "input": [],
     "language": "python",
     "metadata": {},
     "outputs": []
    },
    {
     "cell_type": "markdown",
     "metadata": {},
     "source": [
      "## Ejercicio 1\n",
      "\n",
      "Los valores del estado civil (atributo `marital`) contienen errores tipogr\u00e1ficos e incluyen el uso de distintas nomenclaturas. En este ejercicio, unificaremos la nomenclatura de los valores de este atributo. **(1.5 puntos)**\n",
      "\n",
      "a) \u00bfCu\u00e1ntos valores distintos toma el atributo `marital` en el conjunto de datos? Mostrad cu\u00e1les son estos valores."
     ]
    },
    {
     "cell_type": "code",
     "collapsed": false,
     "input": [
      "# Respuesta"
     ],
     "language": "python",
     "metadata": {},
     "outputs": []
    },
    {
     "cell_type": "markdown",
     "metadata": {},
     "source": [
      "b) Unificad los valores del atributo `marital` para sean \u00fanicamente: \"single\", \"married\" o \"divorced\"."
     ]
    },
    {
     "cell_type": "code",
     "collapsed": false,
     "input": [
      "# Respuesta"
     ],
     "language": "python",
     "metadata": {},
     "outputs": []
    },
    {
     "cell_type": "markdown",
     "metadata": {},
     "source": [
      "c) Comprobad que la unificaci\u00f3n que hab\u00e9is realizado es correcta."
     ]
    },
    {
     "cell_type": "code",
     "collapsed": false,
     "input": [
      "# Respuesta"
     ],
     "language": "python",
     "metadata": {},
     "outputs": []
    },
    {
     "cell_type": "markdown",
     "metadata": {},
     "source": [
      "## Ejercicio 2\n",
      "\n",
      "**(2 puntos)**\n",
      "\n",
      "a) \u00bfQu\u00e9 columnas contienen valores perdidos?"
     ]
    },
    {
     "cell_type": "code",
     "collapsed": false,
     "input": [
      "# Respuesta"
     ],
     "language": "python",
     "metadata": {},
     "outputs": []
    },
    {
     "cell_type": "markdown",
     "metadata": {},
     "source": [
      "b) \u00bfCu\u00e1ntas muestras tienen al menos un valor perdido en cualquiera de sus atributos?"
     ]
    },
    {
     "cell_type": "code",
     "collapsed": false,
     "input": [
      "# Respuesta"
     ],
     "language": "python",
     "metadata": {},
     "outputs": []
    },
    {
     "cell_type": "markdown",
     "metadata": {},
     "source": [
      "c) \u00bfCu\u00e1ntas muestras tienen al menos tres valores perdidos?"
     ]
    },
    {
     "cell_type": "code",
     "collapsed": false,
     "input": [
      "# Respuesta"
     ],
     "language": "python",
     "metadata": {},
     "outputs": []
    },
    {
     "cell_type": "markdown",
     "metadata": {},
     "source": [
      "d) Eliminad las muestras que tengan alg\u00fan valor perdido en cualquiera de los atributos"
     ]
    },
    {
     "cell_type": "code",
     "collapsed": false,
     "input": [
      "# Respuesta"
     ],
     "language": "python",
     "metadata": {},
     "outputs": []
    },
    {
     "cell_type": "markdown",
     "metadata": {},
     "source": [
      "## Ejercicio 3\n",
      "\n",
      "Cread dos nuevas columnas en el dataframe con el resultado de discretizar el atributo `duration`: **(1.5 puntos)**\n",
      "\n",
      "a) La columna `disc_1` contendr\u00e1 la discretizaci\u00f3n en 10 intervalos que contengan el mismo n\u00famero de muestras cada uno. "
     ]
    },
    {
     "cell_type": "code",
     "collapsed": false,
     "input": [
      "# Respuesta"
     ],
     "language": "python",
     "metadata": {},
     "outputs": []
    },
    {
     "cell_type": "markdown",
     "metadata": {},
     "source": [
      "b) La columna `disc_2` contendr\u00e1 la discretizaci\u00f3n en 10 intervalos del mismo tama\u00f1o. "
     ]
    },
    {
     "cell_type": "code",
     "collapsed": false,
     "input": [
      "# Respuesta"
     ],
     "language": "python",
     "metadata": {},
     "outputs": []
    },
    {
     "cell_type": "markdown",
     "metadata": {},
     "source": [
      "## Ejercicio 4\n",
      "\n",
      "Crea 4 nuevos atributos binarios (`balance_Q1`, `balance_Q2`, `balance_Q3`, `balance_Q4`) que indiquen en qu\u00e9 cuartil se encuentra el valor de balance (`balance`) de cada muestra. As\u00ed, para una muestra con un valor de balance en el segundo cuartil, el atributo `balance_Q2` ser\u00e1 1 y los atributos `balance_Q1`, `balance_Q3` y `balance_Q4` ser\u00e1n 0. **(2 puntos)**"
     ]
    },
    {
     "cell_type": "code",
     "collapsed": false,
     "input": [
      "# Respuesta"
     ],
     "language": "python",
     "metadata": {},
     "outputs": []
    },
    {
     "cell_type": "markdown",
     "metadata": {},
     "source": [
      "## Ejercicio 5\n",
      "\n",
      "Selecciona aleatoriamente un subconjunto de 20 muestras del dataframe, de manera que el dataframe resultante est\u00e9 balanceado con respeto al atributo `default`. Es decir, el nuevo dataframe deber tener el mismo n\u00famero de muestras para cada posible valor del atributo `default`.  **(1.5 puntos)**"
     ]
    },
    {
     "cell_type": "code",
     "collapsed": false,
     "input": [
      "# Respuesta"
     ],
     "language": "python",
     "metadata": {},
     "outputs": []
    },
    {
     "cell_type": "markdown",
     "metadata": {},
     "source": [
      "## Ejercicio 6\n",
      "\n",
      "El atributo `poutcome` contiene informaci\u00f3n sobre si el cliente del banco contrat\u00f3 un dep\u00f3sito a largo plazo con el banco. Si dispon\u00e9is \u00fanicamente de los datos del dataframe y tuvierais que escoger una \u00fanica columna para precedir si el cliente contrat\u00f3 el dep\u00f3sito, \u00bfqu\u00e9 columna escoger\u00edais?**(1.5 puntos)**\n",
      "\n",
      "Nota: obviamente, no pod\u00e9is escoger la columna poutcome\n",
      "\n",
      "Pista: Quiz\u00e1s la funci\u00f3n [corr](http://pandas.pydata.org/pandas-docs/stable/generated/pandas.DataFrame.corr.html) de pandas puede ser de utilidad."
     ]
    },
    {
     "cell_type": "code",
     "collapsed": false,
     "input": [
      "# Respuesta"
     ],
     "language": "python",
     "metadata": {},
     "outputs": []
    }
   ],
   "metadata": {}
  }
 ]
}