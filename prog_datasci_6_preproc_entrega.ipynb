{
 "cells": [
  {
   "cell_type": "markdown",
   "metadata": {},
   "source": [
    "<div style=\"width: 100%; clear: both;\">\n",
    "    <div style=\"float: left; width: 50%;\">\n",
    "       <img src=\"http://www.uoc.edu/portal/_resources/common/imatges/marca_UOC/UOC_Masterbrand.jpg\", align=\"left\">\n",
    "    </div>\n",
    "</div>\n",
    "\n",
    "<div style=\"float: right; width: 50%;\">\n",
    "    <p style=\"margin: 0; padding-top: 22px; text-align:right;\">22.501 · Fundamentos de Programación</p>\n",
    "    <p style=\"margin: 0; text-align:right;\">Grado en Ciencia de Datos Aplicada</p>\n",
    "    <p style=\"margin: 0; text-align:right; padding-button: 100px;\">Estudios de Informática, Multimedia y Telecomunicación</p>\n",
    "</div>\n",
    "\n",
    "</div>\n",
    "<div style=\"width: 100%; clear: both;\">\n",
    "<div style=\"width:100%;\">&nbsp;</div>"
   ]
  },
  {
   "cell_type": "markdown",
   "metadata": {},
   "source": [
    "Fundamentos de Programación\n",
    "============================\n",
    "\n",
    "PEC 6: Preprocesamiento de datos en Python\n",
    "--------------------------------------\n",
    "\n",
    "En este Notebook se encontraréis el conjunto de actividades evaluables como PEC de la asignatura. Veréis que cada una de ellas tiene asociada una puntuación, que indica el peso que tiene la actividad sobre la nota final de la PEC. Adicionalmente, hay un ejercicio opcional, que no tiene puntuación dentro de la PEC, pero que se valora al final del semestre de cara a conceder las matrículas de honor y redondear las notas finales. Podréis sacar la máxima nota de la PEC sin necesidad de hacer este ejercicio. El objetivo de este ejercicio es que sirva como pequeño reto para los estudiantes que quieran profundizar en el contenido de la asignatura.\n",
    "\n",
    "Veréis que todas las actividades de la PEC tienen una etiqueta, que indica los recursos necesarios para llevarla a cabo. Hay tres posibles etiquetas:\n",
    "\n",
    "* <span style=\"font-family: Courier New; background-color: #82b74b; color: #000000; padding: 3px; \">NM</span> **Sólo materiales**: las herramientas necesarias para realizar la actividad se pueden encontrar en los materiales de la asignatura.\n",
    "\n",
    "* <span style = \"font-family: Courier New; background-color: #ffcc5c; color: #000000; padding: 3px; \">EG</span> **Consulta externa guiada**: la actividad puede requerir hacer uso de herramientas que no se encuentran en los materiales de la asignatura, pero el enunciado contiene indicaciones de dónde o cómo encontrar la información adicional necesaria para resolver la actividad.\n",
    "\n",
    "* <span style = \"font-family: Courier New; background-color: #f2ae72; color: #000000; padding: 3px;\">EI</span> **Consulta externa independiente**: la actividad puede requerir hacer uso de herramientas que no se encuentran en los materiales de la asignatura, y el enunciado puede no incluir la descripción de dónde o cómo encontrar esta información adicional. Será necesario que el estudiante busque esta información utilizando los recursos que se han explicado en la asignatura.\n",
    "\n",
    "Es importante notar que estas etiquetas no indican el nivel de dificultad del ejercicio, sino únicamente la necesidad de consulta de documentación externa para su resolución. Además, recordad que las **etiquetas son informativas**, pero podréis consultar referencias externas en cualquier momento (aunque no se indique explícitamente) o puede ser que podáis hacer una actividad sin consultar ningún tipo de documentación. Por ejemplo, para resolver una actividad que sólo requiera los materiales de la asignatura, puedéis consultar referencias externas si queréis, ya sea tanto para ayudaros en la resolución como para ampliar el conocimiento!\n",
    "\n",
    "En cuanto a la consulta de documentación externa en la resolución de los ejercicios, recordad **citar siempre la bibliografía utilizada** para resolver cada actividad.\n",
    "\n",
    "---"
   ]
  },
  {
   "cell_type": "markdown",
   "metadata": {},
   "source": [
    "Ejercicios para la PEC\n",
    "-------------------------------"
   ]
  },
  {
   "cell_type": "markdown",
   "metadata": {},
   "source": [
    "En esta PEC trabajaremos con un conjunto de datos (***dataset***) propio de una película de **ciencia ficción**. Se trata de una base de datos simplificada que recoge características de avistamientos de **OVNIs** reportados en todo el mundo desde finales de la segunda guerra mundial: platillos volantes en Estados Unidos, luces fugaces en el cielo austral, puntos rojos en lo alto de una cumbre, etc. Esperamos que disfrutéis de esta PEC."
   ]
  },
  {
   "cell_type": "markdown",
   "metadata": {},
   "source": [
    "### Ejercicio 1"
   ]
  },
  {
   "cell_type": "markdown",
   "metadata": {},
   "source": [
    "Carga el dataset del archivo `ufo.csv` que encontraréis en la carpeta `data` y responde a las siguientes preguntas:"
   ]
  },
  {
   "cell_type": "markdown",
   "metadata": {},
   "source": [
    "(a) Importa el archivo `ufo.csv` de la carpeta de datos en un dataframe. Examina el conjunto de datos y muestra por pantalla sus dimensiones y el nombre asignado a cada una de las columnas. Luego imprime las 5 primeras entradas y las 10 últimas. **(0.5 puntos)**  <span style=\"font-family: Courier New; background-color: #82b74b; color: #000000; padding: 2px; \">NM</span>"
   ]
  },
  {
   "cell_type": "code",
   "execution_count": null,
   "metadata": {},
   "outputs": [],
   "source": [
    "# Respuesta\n"
   ]
  },
  {
   "cell_type": "markdown",
   "metadata": {},
   "source": [
    "(b) Fíjate que los nombres de las columnas no son óptimos para la manipulación del dataset. Modifícalos siguiendo las instrucciones siguientes: sustituye los espacios en blanco y caracteres especiales (paréntesis, asteriscos, etc.) del interior de cada palabra por el caracter `_` (*barra baja* o *underscore*), y elimina los espacios en blanco al principio y final de palabra. Para la realización de este apartado, te puedes inspirar con este [link](https://stackoverflow.com/questions/39741429/pandas-replace-a-character-in-all-column-names). **(0.5 puntos)**  <span style = \"font-family: Courier New; background-color: #ffcc5c; color: #000000; padding: 3px; \">EG</span>"
   ]
  },
  {
   "cell_type": "code",
   "execution_count": null,
   "metadata": {},
   "outputs": [],
   "source": [
    "# Respuesta\n"
   ]
  },
  {
   "cell_type": "markdown",
   "metadata": {},
   "source": [
    "(c) Continuamos explorando las características del dataset. Imprime por pantalla el tipo de las variables del dataset. Teniendo en cuenta la información de cada variable, ¿te parecen los tipos más adecuados? ¿Qué tipos asignarías a cada variable? **(0.5 puntos)**  <span style=\"font-family: Courier New; background-color: #82b74b; color: #000000; padding: 2px; \">NM</span>"
   ]
  },
  {
   "cell_type": "code",
   "execution_count": null,
   "metadata": {},
   "outputs": [],
   "source": [
    "# Respuesta\n"
   ]
  },
  {
   "cell_type": "markdown",
   "metadata": {},
   "source": [
    "(d) Asigna el tipo `float` a las (nuevas) variables `duration_seconds` y `latitude` y verifica que los tipos se hayan cambiado correctamente en el dataframe. Para simplificar el ejercicio, puedes eliminar del dataframe todas las entradas *problemáticas* y para el [control de excepciones](https://docs.python.org/es/3/tutorial/errors.html#handling-exceptions), puedes utilizar las sintaxis `try` / `except`. **(1 punto)**  <span style = \"font-family: Courier New; background-color: #ffcc5c; color: #000000; padding: 3px; \">EG</span>"
   ]
  },
  {
   "cell_type": "code",
   "execution_count": null,
   "metadata": {},
   "outputs": [],
   "source": [
    "# Respuesta\n"
   ]
  },
  {
   "cell_type": "markdown",
   "metadata": {},
   "source": [
    "(e) ¿Hay duplicados en el dataset? **(0.5 puntos)**  <span style=\"font-family: Courier New; background-color: #82b74b; color: #000000; padding: 2px; \">NM</span>"
   ]
  },
  {
   "cell_type": "code",
   "execution_count": null,
   "metadata": {},
   "outputs": [],
   "source": [
    "# Respuesta\n"
   ]
  },
  {
   "cell_type": "markdown",
   "metadata": {},
   "source": [
    "### Ejercicio 2"
   ]
  },
  {
   "cell_type": "markdown",
   "metadata": {},
   "source": [
    "En este ejercicio trabajaremos las variables `city` y `country` para mejorar el conjunto de datos existente y poder realizar análisis más precisos que involucren características geográficas."
   ]
  },
  {
   "cell_type": "markdown",
   "metadata": {},
   "source": [
    "(a) Imprime por pantalla una muestra aleatoria de 30 entradas de la variable `city`. Ejecuta la instrucción varias veces para comprobar que los valores van cambiando. **(0.5 puntos)** <span style=\"font-family: Courier New; background-color: #82b74b; color: #000000; padding: 3px; \">NM</span>"
   ]
  },
  {
   "cell_type": "code",
   "execution_count": null,
   "metadata": {},
   "outputs": [],
   "source": [
    "# Respuesta\n"
   ]
  },
  {
   "cell_type": "markdown",
   "metadata": {},
   "source": [
    "(b) Supongamos que el conjunto de datos se carga en la variable `df_ufo`, explica la utilidad de la siguiente instrucción:\n",
    "```python\n",
    "df_ufo['city'].str.extract(r\"\\(([A-Za-z]+)\\)\", expand=False)\n",
    "```\n",
    "**(0.5 puntos)** <span style = \"font-family: Courier New; background-color: #f2ae72; color: #000000; padding: 3px;\">EI</span>"
   ]
  },
  {
   "cell_type": "code",
   "execution_count": null,
   "metadata": {},
   "outputs": [],
   "source": [
    "# Respuesta\n"
   ]
  },
  {
   "cell_type": "markdown",
   "metadata": {},
   "source": [
    "(c)  Si analizas muestras aleatorias diferentes observarás que la variable `city` contiene, en algunos casos, los países en los que se producieron los avistamientos. Sustituye los valores nulos posibles de la variable `country` por los valores correspondientes indicados en la variable `city`. Imprime por pantalla los nuevos valores de la variable `country`. \n",
    "\n",
    "**NOTA1**: Aunque no todo lo que aparece en `city` son países, para simplificar el ejercicio, supondremos que sí lo son, sin preocuparnos de unificar nombres.\n",
    "\n",
    "**NOTA2**: Recuerda que el valor `NaN` corresponde a un valor perdido y existen diversas maneras de tratarlo, una de ellas se explica en el Notebook de teoría.\n",
    "\n",
    "**(1 punto)** <span style = \"font-family: Courier New; background-color: #f2ae72; color: #000000; padding: 3px;\">EI</span>"
   ]
  },
  {
   "cell_type": "code",
   "execution_count": null,
   "metadata": {},
   "outputs": [],
   "source": [
    "# Respuesta\n"
   ]
  },
  {
   "cell_type": "markdown",
   "metadata": {},
   "source": [
    "### Ejercicio 3"
   ]
  },
  {
   "cell_type": "markdown",
   "metadata": {},
   "source": [
    "Como ya hemos visto en el notebook de teoría, las técnicas de preprocesamiento de datos buscan convertir un conjunto de datos bruto en un conjunto de datos idóneo para ser *digerido* por un algoritmo de minería de datos. En este caso, vamos a suponer que nuestro objetivo es predecir qué forma tendrá un OVNI (UFO) avistado en Estados Unidos dado el nombre del estado (variable `state`) donde se ha realizado el avistamiento. Para ello, tendremos que adaptar y mejorar el dataset inicial.\n",
    "\n",
    "(a) A partir del dataframe inicial, crea un nuevo dataframe con solamente aquellos registros que tengan el campo `country` igual a 'us'. Elimina todas las columnas a excepción de las correspondientes a `state` y `shape`. Del conjunto de datos resultante, ¿qué porcentaje de sus filas contiene al menos un valor nulo? **(0.5 puntos)** <span style=\"font-family: Courier New; background-color: #82b74b; color: #000000; padding: 3px; \">NM</span>"
   ]
  },
  {
   "cell_type": "code",
   "execution_count": null,
   "metadata": {},
   "outputs": [],
   "source": [
    "# Respuesta\n"
   ]
  },
  {
   "cell_type": "markdown",
   "metadata": {},
   "source": [
    "(b) Siguiendo con este nuevo dataset, elimina todas las filas correspondientes a valores nulos y unifica los valores 'unknown', 'changed' y 'changing' bajo el nombre 'other'. Imprime por pantalla los valores que toma ahora la variable `shape`. **(0.5 puntos)** <span style=\"font-family: Courier New; background-color: #82b74b; color: #000000; padding: 3px; \">NM</span>"
   ]
  },
  {
   "cell_type": "code",
   "execution_count": null,
   "metadata": {},
   "outputs": [],
   "source": [
    "# Respuesta\n"
   ]
  },
  {
   "cell_type": "markdown",
   "metadata": {},
   "source": [
    "(c) Utiliza `LabelEncoder` de `sklearn` para codificar númericamente la variable `shape` en una nueva columna del mismo dataframe. **(1 punto)** <span style = \"font-family: Courier New; background-color: #ffcc5c; color: #000000; padding: 3px; \">EG</span>"
   ]
  },
  {
   "cell_type": "code",
   "execution_count": null,
   "metadata": {},
   "outputs": [],
   "source": [
    "# Respuesta\n"
   ]
  },
  {
   "cell_type": "markdown",
   "metadata": {},
   "source": [
    "(d) Fíjandose en la variable `shape`, ¿crees que este nuevo dataset está balanceado? **(0.5 puntos)** <span style = \"font-family: Courier New; background-color: #f2ae72; color: #000000; padding: 3px;\">EI</span>\n",
    "\n"
   ]
  },
  {
   "cell_type": "code",
   "execution_count": null,
   "metadata": {},
   "outputs": [],
   "source": [
    "# Respuesta\n"
   ]
  },
  {
   "cell_type": "markdown",
   "metadata": {},
   "source": [
    "### Ejercicio 4"
   ]
  },
  {
   "cell_type": "markdown",
   "metadata": {},
   "source": [
    "En este ejercicio volveremos a trabajar con el conjunto de datos resultante del ejercicio 1, pero esta vez nos focalizaremos en el tratamiento de variables numéricas.\n",
    "\n",
    "(a) ¿Cuáles son los valores estadísticos (e.g. media, desviación estándar, etc.) de las variables `duration_seconds`, `latitude` y `longitude`? **(0.5 puntos)** <span style=\"font-family: Courier New; background-color: #82b74b; color: #000000; padding: 3px; \">NM</span>"
   ]
  },
  {
   "cell_type": "code",
   "execution_count": null,
   "metadata": {},
   "outputs": [],
   "source": [
    "# Respuesta\n"
   ]
  },
  {
   "cell_type": "markdown",
   "metadata": {},
   "source": [
    "(b) Añade una columna al dataset que permita clasificar de manera equilibrada entre tres clases de duración: 'long', 'medium', 'short'. Verifica que las clases estan más o menos balanceadas y comprueba que la media aritmética de cada clase es coherente con el tipo de duración asignada (la duración media 'long' debería ser mayor que la 'medium', y ésta que la 'short'). Puedes inspirarte de este [post](https://stackoverflow.com/questions/30211923/what-is-the-difference-between-pandas-qcut-and-pandas-cut) para la realización del ejercicio. **(1 punto)** <span style = \"font-family: Courier New; background-color: #ffcc5c; color: #000000; padding: 3px; \">EG</span>"
   ]
  },
  {
   "cell_type": "code",
   "execution_count": null,
   "metadata": {},
   "outputs": [],
   "source": [
    "# Respuesta\n"
   ]
  },
  {
   "cell_type": "markdown",
   "metadata": {},
   "source": [
    "(c) Transforma el conjunto de datos inicial para que contenga columnas con la codificación binaria de cada una de las tres clases creadas en el apartado anterior. **(0.5 puntos)** <span style=\"font-family: Courier New; background-color: #82b74b; color: #000000; padding: 3px; \">NM</span>"
   ]
  },
  {
   "cell_type": "code",
   "execution_count": null,
   "metadata": {},
   "outputs": [],
   "source": [
    "# Respuesta\n"
   ]
  },
  {
   "cell_type": "markdown",
   "metadata": {},
   "source": [
    "(d) Imagina que queremos crear un modelo para clasificar zonas geográficas según son más o menos propensas a avistamientos de OVNIs y creemos que los datos de latitud y longitud de este dataset nos podrían ser útiles. Normaliza dichas dos variables utilizando el módulo `StandardScaler` e indica cómo han cambiado sus estadísticas básicas. **(0.5 puntos)** <span style=\"font-family: Courier New; background-color: #82b74b; color: #000000; padding: 3px; \">NM</span>"
   ]
  },
  {
   "cell_type": "code",
   "execution_count": null,
   "metadata": {},
   "outputs": [],
   "source": [
    "# Respuesta\n"
   ]
  },
  {
   "cell_type": "markdown",
   "metadata": {},
   "source": [
    "### Ejercicio opcional"
   ]
  },
  {
   "cell_type": "markdown",
   "metadata": {},
   "source": [
    "Ejecuta la siguiente instrucción para la instalación del package `wordcloud`:\n",
    "```python\n",
    "!pip install wordcloud\n",
    "```\n",
    "\n",
    "Utiliza este nuevo package para construir una nube con las palabras más usadas en la variable `comments` del dataframe inicial. Muestrala por pantalla mediante la función `imshow` de `matplotlib.pyplot`. **(Opcional)** <span style = \"font-family: Courier New; background-color: #ffcc5c; color: #000000; padding: 3px; \">EG</span>"
   ]
  },
  {
   "cell_type": "code",
   "execution_count": null,
   "metadata": {},
   "outputs": [],
   "source": [
    "# Respuesta\n"
   ]
  }
 ],
 "metadata": {
  "kernelspec": {
   "display_name": "Python 3",
   "language": "python",
   "name": "python3"
  },
  "language_info": {
   "codemirror_mode": {
    "name": "ipython",
    "version": 3
   },
   "file_extension": ".py",
   "mimetype": "text/x-python",
   "name": "python",
   "nbconvert_exporter": "python",
   "pygments_lexer": "ipython3",
   "version": "3.8.12"
  }
 },
 "nbformat": 4,
 "nbformat_minor": 2
}
