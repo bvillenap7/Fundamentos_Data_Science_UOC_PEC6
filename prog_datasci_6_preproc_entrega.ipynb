{
 "metadata": {
  "name": "",
  "signature": "sha256:fec012160b22df2f2d21d63d54bdec5a4332c081aecdefc293d44bba25f6493b"
 },
 "nbformat": 3,
 "nbformat_minor": 0,
 "worksheets": [
  {
   "cells": [
    {
     "cell_type": "heading",
     "level": 1,
     "metadata": {},
     "source": [
      "Programaci\u00f3n para *Data Science*"
     ]
    },
    {
     "cell_type": "markdown",
     "metadata": {},
     "source": [
      "Unidad 6: Preprocesamiento de datos en Python - Ejercicios y preguntas\n",
      "------------------------------------------------------"
     ]
    },
    {
     "cell_type": "markdown",
     "metadata": {},
     "source": [
      "## Ejercicio 0\n",
      "\n",
      "Cargad los datos del fichero `winequality-white_edited.csv` en un *dataframe*. Este conjunto de datos recoge datos sobre muestras de vino del norte de Portugal. El conjunto original puede encontrarse en el [repositorio de datos de Machine Learning de la UC Irvine](http://archive.ics.uci.edu/ml/datasets/Wine+Quality), pero el conjunto que usaremos tiene algunas modificaciones.\n",
      "\n",
      "Mostrad el n\u00famero de muestras del conjunto de datos y los nombres de los atributos (columnas).\n",
      "\n",
      "\n",
      "\n"
     ]
    },
    {
     "cell_type": "code",
     "collapsed": false,
     "input": [
      "# Respuesta\n"
     ],
     "language": "python",
     "metadata": {},
     "outputs": [],
     "prompt_number": 1
    },
    {
     "cell_type": "markdown",
     "metadata": {},
     "source": [
      "## Ejercicio 1\n",
      "\n",
      "El valor de la densidad del vino (atributo `density`) es un valor cercano a 1. \n",
      "\n",
      "a) \u00bfCu\u00e1ntas muestras contienen valores de densidad err\u00f3neos?"
     ]
    },
    {
     "cell_type": "code",
     "collapsed": false,
     "input": [
      "# Respuesta\n"
     ],
     "language": "python",
     "metadata": {},
     "outputs": [],
     "prompt_number": 2
    },
    {
     "cell_type": "markdown",
     "metadata": {},
     "source": [
      "b) Sustituid todos los valores de densidad incorrectos, asumiendo que representan la parte decimal de un valor con parte entera 0. Por ejemplo, un valor 558 tendr\u00eda que transformarse en 0.558.\n",
      "\n",
      "Pista: notad que todos los valores err\u00f3neos tienen tres cifras."
     ]
    },
    {
     "cell_type": "code",
     "collapsed": false,
     "input": [
      "# Respuesta\n"
     ],
     "language": "python",
     "metadata": {},
     "outputs": [],
     "prompt_number": 3
    },
    {
     "cell_type": "markdown",
     "metadata": {},
     "source": [
      "## Ejercicio 2\n",
      "\n",
      "a) \u00bfQu\u00e9 columnas contienen valores perdidos?"
     ]
    },
    {
     "cell_type": "code",
     "collapsed": false,
     "input": [
      "# Respuesta\n"
     ],
     "language": "python",
     "metadata": {},
     "outputs": [],
     "prompt_number": 4
    },
    {
     "cell_type": "markdown",
     "metadata": {},
     "source": [
      "b) \u00bfCu\u00e1ntas muestras tienen al menos un valor perdido en cualquiera de sus atributos?"
     ]
    },
    {
     "cell_type": "code",
     "collapsed": false,
     "input": [
      "# Respuesta\n"
     ],
     "language": "python",
     "metadata": {},
     "outputs": [],
     "prompt_number": 5
    },
    {
     "cell_type": "markdown",
     "metadata": {},
     "source": [
      "c) \u00bfCu\u00e1ntas muestras tienen al menos tres valores perdidos?"
     ]
    },
    {
     "cell_type": "code",
     "collapsed": false,
     "input": [
      "# Respuesta\n"
     ],
     "language": "python",
     "metadata": {},
     "outputs": [],
     "prompt_number": 6
    },
    {
     "cell_type": "markdown",
     "metadata": {},
     "source": [
      "d) Eliminad las muestras que tengan alg\u00fan valor perdido en cualquiera de los atributos"
     ]
    },
    {
     "cell_type": "code",
     "collapsed": false,
     "input": [
      "# Respuesta\n"
     ],
     "language": "python",
     "metadata": {},
     "outputs": [],
     "prompt_number": 7
    },
    {
     "cell_type": "markdown",
     "metadata": {},
     "source": [
      "## Ejercicio 3\n",
      "\n",
      "Una de las columnas del conjunto de datos contiene informaci\u00f3n totalmente redundante. Describid c\u00f3mo detectar qu\u00e9 columna es y realizad el proceso de detecci\u00f3n. Eliminad la columna del conjunto de datos.\n",
      "\n",
      "Pista: quiz\u00e1s la funci\u00f3n [_corr_](http://pandas.pydata.org/pandas-docs/stable/generated/pandas.DataFrame.corr.html) de pandas puede ser de utilidad."
     ]
    },
    {
     "cell_type": "code",
     "collapsed": false,
     "input": [
      "# Respuesta\n"
     ],
     "language": "python",
     "metadata": {},
     "outputs": []
    },
    {
     "cell_type": "markdown",
     "metadata": {},
     "source": [
      "## Pregunta 1\n",
      "\n",
      "En el Notebook de ejemplo de este m\u00f3dulo hemos visto c\u00f3mo escalar los datos utilizando el `StandardScaler` del m\u00f3dulo `preprocessing` de sklearn. Describid alguna otra alternativa para escalar los datos y las propiedades que esta alternativa aporta. "
     ]
    },
    {
     "cell_type": "markdown",
     "metadata": {},
     "source": [
      "#### Respuesta:"
     ]
    },
    {
     "cell_type": "markdown",
     "metadata": {},
     "source": [
      "## Ejercicio 4\n",
      "\n",
      "Escalad los valores de los atributos `residual sugar` y `free sulfur dioxide` siguiendo la estrategia descrita en la pregunta anterior.\n",
      "\n"
     ]
    },
    {
     "cell_type": "code",
     "collapsed": false,
     "input": [
      "# Respuesta\n"
     ],
     "language": "python",
     "metadata": {},
     "outputs": [],
     "prompt_number": 8
    },
    {
     "cell_type": "markdown",
     "metadata": {},
     "source": [
      "## Ejercicio 5\n",
      "\n",
      "Cread 4 nuevos atributos binarios (`sulphates_Q1`, `sulphates_Q2`, `sulphates_Q3`, `sulphates_Q4`) que indiquen en qu\u00e9 cuartil se encuentra el valor de sulfatos (`sulphates`) de cada muestra. As\u00ed, para una muestra con un valor de sulfatos en el segundo cuartil, el atributo `sulphates_Q2` ser\u00e1 1 y los atributos `sulphates_Q1`, `sulphates_Q3` y `sulphates_Q4` ser\u00e1n 0."
     ]
    },
    {
     "cell_type": "code",
     "collapsed": false,
     "input": [
      "# Respuesta\n"
     ],
     "language": "python",
     "metadata": {},
     "outputs": [],
     "prompt_number": 9
    },
    {
     "cell_type": "markdown",
     "metadata": {},
     "source": [
      "## Ejercicio 6\n",
      "\n",
      "Selecciona aleatoriamente un subconjunto de cien muestras y crea un _dataframe_ con estas muestras, incluyendo \u00fanicamente los valores de los atributos `alcohol`, `quality` y `chlorides`."
     ]
    },
    {
     "cell_type": "code",
     "collapsed": false,
     "input": [
      "# Respuesta\n"
     ],
     "language": "python",
     "metadata": {},
     "outputs": [],
     "prompt_number": 10
    }
   ],
   "metadata": {}
  }
 ]
}