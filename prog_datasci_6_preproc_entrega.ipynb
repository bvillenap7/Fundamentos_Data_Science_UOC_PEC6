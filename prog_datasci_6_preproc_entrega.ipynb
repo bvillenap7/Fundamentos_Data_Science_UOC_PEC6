{
 "cells": [
  {
   "cell_type": "markdown",
   "metadata": {},
   "source": [
    "# Programación para *Data Science*"
   ]
  },
  {
   "cell_type": "markdown",
   "metadata": {},
   "source": [
    "## Unidad 6: Preprocesamiento de datos en Python\n"
   ]
  },
  {
   "cell_type": "markdown",
   "metadata": {},
   "source": [
    "# Introducción\n",
    "\n",
    "En este Notebook encontraréis el conjunto de **actividades evaluables** como PEC de la asignatura.\n",
    "\n",
    "Or recordamos que os miréis antes de abordar este notebook los ejercicios para practicar. Éstos no puntúan para la PEC, pero os recomendamos que los intentéis resolver como parte del proceso de aprendizaje. Encontraréis ejemplos de posibles soluciones a los ejercicios al propio notebook, pero es importante que intentéis resolverlos vosotros antes de consultar las soluciones. Las soluciones os permitirán validar vuestras respuestas, así como ver alternativas de resolución de las actividades. También os animamos a preguntar cualquier duda que surja sobre la resolución de los **ejercicios para practicar** en el foro del aula.\n",
    "\n",
    "En relación a las actividades evaluables de este notebook, veréis que cada una de ellas tiene asociada una puntuación que indica el peso que tiene la actividad sobre la nota de la PEC. Adicionalmente, hay un ejercicio opcional, que no tiene puntuación dentro de la PEC, pero que se valora al final del semestre de cara a conceder las matrículas de honor y redondear las notas finales. Podéis sacar la máxima nota de la PEC sin necesidad de hacer este ejercicio! El objetivo de este ejercicio es que sirva como pequeño reto para los estudiantes que quieran profundizar en el contenido de la asignatura.\n",
    "\n",
    "Además, veréis que todas las actividades tienen una etiqueta que indica los recursos necesarios para llevarla a cabo. Hay tres posibles etiquetas:\n",
    "\n",
    "* <span style=\"font-family: Courier New; background-color: #82b74b; color: #000000; padding: 3px; \">NM</span> **Sólo materiales**: las herramientas necesarias para realizar la actividad se pueden encontrar en los materiales de la asignatura. \n",
    "\n",
    "* <span style=\"font-family: Courier New; background-color: #ffcc5c; color: #000000; padding: 3px; \">EG</span> **Consulta externa guiada**: la actividad puede requerir hacer uso de herramientas que no se encuentran en los materiales de la asignatura, pero el enunciado contiene indicaciones de dónde o cómo encontrar la información adicional necesaria para resolver la actividad.\n",
    "\n",
    "* <span style=\"font-family: Courier New; background-color: #f2ae72; color: #000000; padding: 3px; \">EI</span> **Consulta externa independente**: la actividad puede requerir hacer uso de herramientas que no se encuentran en los materiales de la asignatura, y el enunciado puede no incluir la descripción de dónde o cómo encontrar esta información adicional. Será necesario que el estudiante busque esta información utilizando los recursos que se han explicado en la asignatura.\n",
    "\n",
    "Es importante notar que estas etiquetas no indican el nivel de dificultad del ejercicio, sino únicamente la necesidad de consulta de documentación externa para su resolución. Además, recordad que las **etiquetas son informativas**, pero podréis consultar referencias externas en cualquier momento (aunque no se indique explícitamente) o puede ser que podáis hacer una actividad sin consultar ningún tipo de documentación. Por ejemplo, para resolver una actividad que sólo requiera los materiales de la asignatura, puedéis consultar referencias externas si queréis, ya sea tanto para ayudaros en la resolución como para ampliar el conocimiento!\n",
    "\n",
    "En cuanto a la consulta de documentación externa en la resolución de los ejercicios, recordad **citar siempre la bibliografía utilizada** para resolver cada actividad."
   ]
  },
  {
   "cell_type": "markdown",
   "metadata": {},
   "source": [
    "# Ejercicios para la PEC"
   ]
  },
  {
   "cell_type": "markdown",
   "metadata": {},
   "source": [
    "A continuación, los **ejercicios y preguntas teóricas que debe completar en esta PEC** y que forman parte de la evaluación de esta unidad."
   ]
  },
  {
   "cell_type": "markdown",
   "metadata": {},
   "source": [
    "# Ejercicio 1\n",
    "\n",
    "La comisión europea ha hecho un esfuerzo en recopilar los datos en relación a la pandémia del sars-cov-2.  La principal organización encargada es la European Center for Disease Prevention and Control (ECDC, https://www.ecdc.europa.eu). Desde el comienzo de la pandemia de coronavirus, el equipo de epidemiólogs del ECDC ha recopilado diariamente el número de casos y muertes de COVID-19, según informes de las autoridades sanitarias de todo el mundo, datos con los que trataremos en este notebook. \n",
    "\n",
    "Importa el fichero `covid19.csv` de la carpeta de datos como un objeto pandas. Usa el formato que mejor se adecue para las diferentes columnas. Una vez importados los datos, realiza las siguientes operaciones:\n",
    "\n",
    "a) Muestra por pantalla el número total de medidas y el nombre de las variables. Muestra las 5 primeras entradas.  Explica qué captura cada variable. \n",
    "\n",
    "\n",
    "**(1 punto)**  <span style=\"font-family: Courier New; background-color: #82b74b; color: #000000; padding: 2px; \">NM</span>\n",
    "\n"
   ]
  },
  {
   "cell_type": "code",
   "execution_count": 1,
   "metadata": {},
   "outputs": [],
   "source": [
    "# Respuesta"
   ]
  },
  {
   "cell_type": "markdown",
   "metadata": {},
   "source": [
    "\n",
    "b) Buscar en los valores de casos y muertes, valores claramente anómalos o sin sentido. En caso de encontrar valores anómalos sustitúye estos por NaN.\n",
    "\n",
    "\n",
    "**(1.5 puntos)**  <span style=\"font-family: Courier New; background-color: #f2ae72; color: #000000; padding: 3px; \">EI</span> \n"
   ]
  },
  {
   "cell_type": "code",
   "execution_count": 4,
   "metadata": {},
   "outputs": [],
   "source": [
    "# Respuesta"
   ]
  },
  {
   "cell_type": "markdown",
   "metadata": {},
   "source": [
    "c) Elimina las muestras de las que no tengamos información sobre la población (popData2018).\n",
    "\n",
    "\n",
    "**(0.5 puntos)**  <span style=\"font-family: Courier New; background-color: #82b74b; color: #000000; padding: 2px; \">NM</span>\n"
   ]
  },
  {
   "cell_type": "code",
   "execution_count": 10,
   "metadata": {},
   "outputs": [],
   "source": [
    "# Respuesta"
   ]
  },
  {
   "cell_type": "markdown",
   "metadata": {},
   "source": [
    "d) Observa la codificación de las variables `geoId`, `countryterritoryCode` y `continentExp`.  Corrige la codificación según tu mejor criterio si observas anomalías, razona y justifica las decisiones que tomas en la corrección o curación de los datos. \n",
    "\n",
    "Ten en cuenta  métodos como el (*in place*) `is.na()`, y que puedes vectorizar una negación lógica con `np.logical_not()`. También te puede ser útil el método `pandas.isin()`.\n",
    "\n",
    "**(1.5 puntos)**  <span style=\"font-family: Courier New; background-color: #ffcc5c; color: #000000; padding: 3px; \">EG</span>\n"
   ]
  },
  {
   "cell_type": "markdown",
   "metadata": {},
   "source": [
    "e) Encuentra los valores perdidos en casos y fallecimientos. Imputa los valores perdidos por el valor más frecuente (moda) de cada columna.   \n",
    "\n",
    "**(1 punto)**  <span style=\"font-family: Courier New; background-color: #82b74b; color: #000000; padding: 2px; \">NM</span>"
   ]
  },
  {
   "cell_type": "code",
   "execution_count": 21,
   "metadata": {},
   "outputs": [],
   "source": [
    "# Respuesta\n"
   ]
  },
  {
   "cell_type": "markdown",
   "metadata": {},
   "source": [
    "## Ejercicio 2\n",
    "\n",
    "\n",
    "En este ejercicio trabajaremos en el conjunto de datos derivado del ejercicio anterior.  \n"
   ]
  },
  {
   "cell_type": "markdown",
   "metadata": {},
   "source": [
    "\n",
    "a) Calcula el valor medio, máximo, mínimo y desviación típica del número de casos.\n",
    "\n",
    "\n",
    "**(1 puntos)**  <span style=\"font-family: Courier New; background-color: #82b74b; color: #000000; padding: 2px; \">NM</span>"
   ]
  },
  {
   "cell_type": "code",
   "execution_count": 26,
   "metadata": {},
   "outputs": [],
   "source": [
    "# Respuesta"
   ]
  },
  {
   "cell_type": "markdown",
   "metadata": {},
   "source": [
    "b) Calcula el total de fallecidos por continente anotados en la fecha de 30 de abril del 2020.   \n",
    "\n",
    "\n",
    "**(1 punto)** <span style=\"font-family: Courier New; background-color: #82b74b; color: #000000; padding: 2px; \">NM</span>"
   ]
  },
  {
   "cell_type": "code",
   "execution_count": 28,
   "metadata": {},
   "outputs": [],
   "source": [
    "# Respuesta"
   ]
  },
  {
   "cell_type": "markdown",
   "metadata": {},
   "source": [
    "c) Calcula  proporción de cases por cada mil habitantes para todo el conjunto de datos. Encuentra la fecha para la que esta proporción és máxima para cada pais. \n",
    "\n",
    "**(1.5 puntos)** <span style=\"font-family: Courier New; background-color: #82b74b; color: #000000; padding: 2px; \">NM</span>"
   ]
  },
  {
   "cell_type": "code",
   "execution_count": 30,
   "metadata": {},
   "outputs": [],
   "source": [
    "# Respuesta"
   ]
  },
  {
   "cell_type": "markdown",
   "metadata": {},
   "source": [
    "d) Crea un nuevo atributo (`estrato`) que contenga la discretización de la variable de casos diarios en  5 segmentos con nombres `Very Low` (de 0 hasta a 10 casos/día), `Low` (de 10 hasta 50 casos/día), `Medium` (de 50 hasta  los 100 casos/día), `High` (de 100 hasta los 1000 casos/día), `Very High` (mayores de 1000 casos/día). Lista los paises que estan en el segmento de `Very High` a fecha de 1 de Mayo del 2020.\n",
    "\n",
    "\n",
    "\n",
    "**(1 punto)** <span style=\"font-family: Courier New; background-color: #82b74b; color: #000000; padding: 2px; \">NM</span>"
   ]
  },
  {
   "cell_type": "code",
   "execution_count": 32,
   "metadata": {},
   "outputs": [],
   "source": [
    "# Respuesta"
   ]
  },
  {
   "cell_type": "markdown",
   "metadata": {},
   "source": [
    "### Ejercicio Opcional\n",
    "\n",
    "\n",
    "El fichero de datos de este notebook contiene marcas temporales. Pandas dispone de infraestructura para contener series temporales.  El objeto base para anotar marcas de tiempo en Pandas es `Timestamp`. Estudia la documentación de pandas `Series`, `Timestamp` y `to_datetime` para añadir una marca de tiempo al dataframe de este notebok. \n",
    "\n",
    "Selecciona los 7 paises con mayor población en el mundo, representa gráficamente la evolución temporal de los casos y fallecimientos para cada uno de los 7  paises. \n",
    "\n",
    "\n",
    "\n",
    " <span style=\"font-family: Courier New; background-color: #f2ae72; color: #000000; padding: 3px; \">EI</span> "
   ]
  },
  {
   "cell_type": "code",
   "execution_count": 35,
   "metadata": {},
   "outputs": [],
   "source": [
    "# Respuesta"
   ]
  }
 ],
 "metadata": {
  "kernelspec": {
   "display_name": "Python 3",
   "language": "python",
   "name": "python3"
  },
  "language_info": {
   "codemirror_mode": {
    "name": "ipython",
    "version": 3
   },
   "file_extension": ".py",
   "mimetype": "text/x-python",
   "name": "python",
   "nbconvert_exporter": "python",
   "pygments_lexer": "ipython3",
   "version": "3.7.6"
  }
 },
 "nbformat": 4,
 "nbformat_minor": 1
}
