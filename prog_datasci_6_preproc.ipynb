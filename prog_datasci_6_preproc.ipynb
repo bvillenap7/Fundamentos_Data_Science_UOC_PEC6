{
 "metadata": {
  "name": "",
  "signature": "sha256:e9ef41b9e79093b053825341b1da4568e1277ffdef20c1e0774473407f025120"
 },
 "nbformat": 3,
 "nbformat_minor": 0,
 "worksheets": [
  {
   "cells": [
    {
     "cell_type": "heading",
     "level": 1,
     "metadata": {},
     "source": [
      "Programaci\u00f3n para Data Science"
     ]
    },
    {
     "cell_type": "markdown",
     "metadata": {},
     "source": [
      "Unidad 6: Preprocesamiento de datos en Python\n",
      "------------------------------------------------------\n",
      "\n",
      "## Instrucciones de uso\n",
      "\n",
      "A continuaci\u00f3n se presentar\u00e1n explicaciones y ejemplos de preprocesamiento de datos en Python. Recordad que pod\u00e9is ir ejecutando los ejemplos para obtener sus resultados.\n",
      "\n",
      "## Introducci\u00f3n\n",
      "\n",
      "En este m\u00f3dulo trabajaremos con la librer\u00eda [pandas](http://pandas.pydata.org/), que ya hemos introducido en m\u00f3dulos anteriores, y [scikit-learn](http://scikit-learn.org), una nueva librer\u00eda que presentamos en este m\u00f3dulo. Scikit-learn es una librer\u00eda de aprendizaje autom\u00e1tico de Python que nos ofrece herramientas y implementaciones de algoritmos para miner\u00eda y an\u00e1lisis de datos. En la propia web de scikit-learn pod\u00e9is encontrar la [documentaci\u00f3n completa](http://scikit-learn.org/stable/documentation.html) de la librer\u00eda.\n",
      "\n",
      "Este notebook contiene ejemplos concretos de t\u00e9cnicas que pueden aplicarse para preprocesar datos para cada uno de los grupos de t\u00e9cnicas descritos en la introducci\u00f3n del m\u00f3dulo (en la xwiki asociada). Es importante destacar que se han seleccionado \u00fanicamente algunas t\u00e9cnicas dentro de cada grupo para presentar ejemplos de qu\u00e9 tipo de transforamciones se realizan pero, a la pr\u00e1ctica, el conjunto de t\u00e9cnicas que se aplican al preprocesamiento de los datos es mucho m\u00e1s amplio. \n",
      "\n",
      "En este notebook veremos como aplicar diferentes t\u00e9cnicas de preprocesamiento de datos sobre un conjunto de datos metereol\u00f3gicos de la ciudad de Beijing. El dataset original puede encontrarse en el siguiente [repositorio de Machine Learning de la UC Irvine](http://archive.ics.uci.edu/ml/datasets/Beijing+PM2.5+Data#), aunque para las actividades utilizaremos una variante modificada del mismo que nos permitir\u00e1 practicar un conjunto m\u00e1s amplio de t\u00e9cnicas. Pod\u00e9is encontrar una peque\u00f1a descripci\u00f3n de los atributos del conjunto de datos siguiendo el enlace anterior.\n",
      "\n",
      "## Primeros pasos\n",
      "\n",
      "En primer lugar, cargamos el conjunto de datos:"
     ]
    },
    {
     "cell_type": "code",
     "collapsed": false,
     "input": [
      "# Importamos la librer\u00eda pandas\n",
      "import pandas as pd\n",
      "\n",
      "# Cargamos los datos del fichero \"weather_dataset_edited.csv\" en un dataframe\n",
      "data = pd.read_csv(\"data/weather_dataset_edited.csv\")\n",
      "\n",
      "# Mostramos una descripci\u00f3n b\u00e1sica de los datos cargados\n",
      "print type(data)\n",
      "print len(data)\n",
      "data.head(n=5)"
     ],
     "language": "python",
     "metadata": {},
     "outputs": [
      {
       "output_type": "stream",
       "stream": "stdout",
       "text": [
        "<class 'pandas.core.frame.DataFrame'>\n",
        "43824\n"
       ]
      },
      {
       "html": [
        "<div style=\"max-width:1500px;overflow:auto;\">\n",
        "<table border=\"1\" class=\"dataframe\">\n",
        "  <thead>\n",
        "    <tr style=\"text-align: right;\">\n",
        "      <th></th>\n",
        "      <th>No</th>\n",
        "      <th>year</th>\n",
        "      <th>month</th>\n",
        "      <th>day</th>\n",
        "      <th>hour</th>\n",
        "      <th>pm2.5</th>\n",
        "      <th>DEWP</th>\n",
        "      <th>TEMP</th>\n",
        "      <th>PRES</th>\n",
        "      <th>cbwd</th>\n",
        "      <th>Iws</th>\n",
        "      <th>Is</th>\n",
        "      <th>Ir</th>\n",
        "    </tr>\n",
        "  </thead>\n",
        "  <tbody>\n",
        "    <tr>\n",
        "      <th>0</th>\n",
        "      <td>1</td>\n",
        "      <td>2010</td>\n",
        "      <td>jan</td>\n",
        "      <td>1</td>\n",
        "      <td>0</td>\n",
        "      <td>NaN</td>\n",
        "      <td>-21</td>\n",
        "      <td>-11</td>\n",
        "      <td>1021</td>\n",
        "      <td>Nw</td>\n",
        "      <td>1.79</td>\n",
        "      <td>0</td>\n",
        "      <td>0</td>\n",
        "    </tr>\n",
        "    <tr>\n",
        "      <th>1</th>\n",
        "      <td>2</td>\n",
        "      <td>2010</td>\n",
        "      <td>jan</td>\n",
        "      <td>1</td>\n",
        "      <td>1</td>\n",
        "      <td>NaN</td>\n",
        "      <td>-21</td>\n",
        "      <td>-12</td>\n",
        "      <td>1020</td>\n",
        "      <td>nw</td>\n",
        "      <td>4.92</td>\n",
        "      <td>0</td>\n",
        "      <td>0</td>\n",
        "    </tr>\n",
        "    <tr>\n",
        "      <th>2</th>\n",
        "      <td>3</td>\n",
        "      <td>2010</td>\n",
        "      <td>jan</td>\n",
        "      <td>1</td>\n",
        "      <td>2</td>\n",
        "      <td>NaN</td>\n",
        "      <td>-21</td>\n",
        "      <td>-11</td>\n",
        "      <td>1019</td>\n",
        "      <td>nw</td>\n",
        "      <td>6.71</td>\n",
        "      <td>0</td>\n",
        "      <td>0</td>\n",
        "    </tr>\n",
        "    <tr>\n",
        "      <th>3</th>\n",
        "      <td>4</td>\n",
        "      <td>2010</td>\n",
        "      <td>jan</td>\n",
        "      <td>1</td>\n",
        "      <td>3</td>\n",
        "      <td>NaN</td>\n",
        "      <td>-21</td>\n",
        "      <td>-14</td>\n",
        "      <td>1019</td>\n",
        "      <td>NW</td>\n",
        "      <td>9.84</td>\n",
        "      <td>0</td>\n",
        "      <td>0</td>\n",
        "    </tr>\n",
        "    <tr>\n",
        "      <th>4</th>\n",
        "      <td>5</td>\n",
        "      <td>2010</td>\n",
        "      <td>jan</td>\n",
        "      <td>1</td>\n",
        "      <td>4</td>\n",
        "      <td>NaN</td>\n",
        "      <td>-20</td>\n",
        "      <td>-12</td>\n",
        "      <td>1018</td>\n",
        "      <td>nW</td>\n",
        "      <td>12.97</td>\n",
        "      <td>0</td>\n",
        "      <td>0</td>\n",
        "    </tr>\n",
        "  </tbody>\n",
        "</table>\n",
        "</div>"
       ],
       "metadata": {},
       "output_type": "pyout",
       "prompt_number": 2,
       "text": [
        "   No  year month  day  hour  pm2.5  DEWP  TEMP  PRES cbwd    Iws  Is  Ir\n",
        "0   1  2010   jan    1     0    NaN   -21   -11  1021   Nw   1.79   0   0\n",
        "1   2  2010   jan    1     1    NaN   -21   -12  1020   nw   4.92   0   0\n",
        "2   3  2010   jan    1     2    NaN   -21   -11  1019   nw   6.71   0   0\n",
        "3   4  2010   jan    1     3    NaN   -21   -14  1019   NW   9.84   0   0\n",
        "4   5  2010   jan    1     4    NaN   -20   -12  1018   nW  12.97   0   0"
       ]
      }
     ],
     "prompt_number": 2
    },
    {
     "cell_type": "markdown",
     "metadata": {},
     "source": [
      "## Integraci\u00f3n de datos\n",
      "\n",
      "El conjunto de datos ha sido creado con la colaboraci\u00f3n de diferentes personas. Aunque todas ellas anotaban la misma informaci\u00f3n, lo cierto es que utilizaron una nomenclatura distinta para describir la direcci\u00f3n del viento. Veamos c\u00f3mo podemos unificar la nomenclatura usada por todos ellos."
     ]
    },
    {
     "cell_type": "code",
     "collapsed": false,
     "input": [
      "# Visualizamos las diferentes abreviaturas utilizadas\n",
      "set(data[\"cbwd\"])"
     ],
     "language": "python",
     "metadata": {},
     "outputs": [
      {
       "metadata": {},
       "output_type": "pyout",
       "prompt_number": 3,
       "text": [
        "{nan, 'NE', 'NW', 'Nw', 'SE', 'Se', 'nW', 'ne', 'nw', 'sE', 'se'}"
       ]
      }
     ],
     "prompt_number": 3
    },
    {
     "cell_type": "code",
     "collapsed": false,
     "input": [
      "# Unificamos la nomenclatura para usar \u00fanicamente may\u00fasculas\n",
      "data.loc[data.cbwd == \"ne\", \"cbwd\"] = \"NE\"\n",
      "data.loc[(data.cbwd == \"Nw\") | (data.cbwd == \"nW\") | (data.cbwd == \"nw\"), \"cbwd\"] = \"NW\"\n",
      "data.loc[(data.cbwd == \"Se\") | (data.cbwd == \"sE\") | (data.cbwd == \"se\"), \"cbwd\"] = \"SE\""
     ],
     "language": "python",
     "metadata": {},
     "outputs": [],
     "prompt_number": 4
    },
    {
     "cell_type": "markdown",
     "metadata": {},
     "source": [
      "Notad que usamos el operador `.loc`, que hab\u00edamos visto en el m\u00f3dulo 4 (en las explicaciones sobre la librer\u00eda pandas) para filtrar las filas que cumplen una caracter\u00edstica concreta (por ejemplo, para la primera sentencia, que tienen el valor \"ne\" en el campo `cbwd`) y luego seleccionamos \u00fanicamente la columna \"cbwd\" para poder asignarle el nuevo valor (en este caso, \"NE\")."
     ]
    },
    {
     "cell_type": "code",
     "collapsed": false,
     "input": [
      "# Comprobamos que la sustituci\u00f3n se haya realizado correctamente\n",
      "set(data[\"cbwd\"])"
     ],
     "language": "python",
     "metadata": {},
     "outputs": [
      {
       "metadata": {},
       "output_type": "pyout",
       "prompt_number": 5,
       "text": [
        "{nan, 'NE', 'NW', 'SE'}"
       ]
      }
     ],
     "prompt_number": 5
    },
    {
     "cell_type": "markdown",
     "metadata": {},
     "source": [
      "Adem\u00e1s, sabemos que normalmente la temperatura se tomaba con un term\u00f3metro configurado para usar el sistema m\u00e9trico internacional, por lo que esta se encuentra expresada en grados celsius. Sin embargo, durante el a\u00f1o 2011 se estuvieron tomando las mediciones con otro term\u00f3metro configurado con grados Farenheit, por lo que las muestras de ese a\u00f1o se encuentran expresadas en \u00b0F. Veamos c\u00f3mo podemos unificar las mediciones de temperatura."
     ]
    },
    {
     "cell_type": "code",
     "collapsed": false,
     "input": [
      "# Importamos la librer\u00eda numpy\n",
      "import numpy as np\n",
      "\n",
      "# Visualizamos la media anual de las temperaturas\n",
      "grouped = data.groupby(\"year\")\n",
      "grouped.aggregate({\"TEMP\": np.mean})"
     ],
     "language": "python",
     "metadata": {},
     "outputs": [
      {
       "html": [
        "<div style=\"max-width:1500px;overflow:auto;\">\n",
        "<table border=\"1\" class=\"dataframe\">\n",
        "  <thead>\n",
        "    <tr style=\"text-align: right;\">\n",
        "      <th></th>\n",
        "      <th>TEMP</th>\n",
        "    </tr>\n",
        "    <tr>\n",
        "      <th>year</th>\n",
        "      <th></th>\n",
        "    </tr>\n",
        "  </thead>\n",
        "  <tbody>\n",
        "    <tr>\n",
        "      <th>2010</th>\n",
        "      <td>11.632420</td>\n",
        "    </tr>\n",
        "    <tr>\n",
        "      <th>2011</th>\n",
        "      <td>54.617534</td>\n",
        "    </tr>\n",
        "    <tr>\n",
        "      <th>2012</th>\n",
        "      <td>11.967441</td>\n",
        "    </tr>\n",
        "    <tr>\n",
        "      <th>2013</th>\n",
        "      <td>12.399201</td>\n",
        "    </tr>\n",
        "    <tr>\n",
        "      <th>2014</th>\n",
        "      <td>13.679566</td>\n",
        "    </tr>\n",
        "  </tbody>\n",
        "</table>\n",
        "</div>"
       ],
       "metadata": {},
       "output_type": "pyout",
       "prompt_number": 6,
       "text": [
        "           TEMP\n",
        "year           \n",
        "2010  11.632420\n",
        "2011  54.617534\n",
        "2012  11.967441\n",
        "2013  12.399201\n",
        "2014  13.679566"
       ]
      }
     ],
     "prompt_number": 6
    },
    {
     "cell_type": "markdown",
     "metadata": {},
     "source": [
      "Fijaros como, efectivamente, la media del a\u00f1o 2011 es mucho m\u00e1s alta que el resto de a\u00f1os."
     ]
    },
    {
     "cell_type": "code",
     "collapsed": false,
     "input": [
      "# Definimos una funci\u00f3n que convierte grados farenheit en grados celsius\n",
      "def farenheit_to_celsius(x):\n",
      "    return (x-32)*5/9\n",
      "\n",
      "# Sustituimos los valores de las temperaturas del a\u00f1o 2011 por el resultado de aplicar la funci\u00f3n\n",
      "# farenheit_to_celsius al valor actual\n",
      "data.loc[data.year == 2011, \"TEMP\"] = data[data.year == 2011][\"TEMP\"].apply(farenheit_to_celsius)\n"
     ],
     "language": "python",
     "metadata": {},
     "outputs": [],
     "prompt_number": 7
    },
    {
     "cell_type": "code",
     "collapsed": false,
     "input": [
      "# Comprobamos que los cambios realizados han tenido efecto\n",
      "grouped.aggregate({\"TEMP\": np.mean})"
     ],
     "language": "python",
     "metadata": {},
     "outputs": [
      {
       "html": [
        "<div style=\"max-width:1500px;overflow:auto;\">\n",
        "<table border=\"1\" class=\"dataframe\">\n",
        "  <thead>\n",
        "    <tr style=\"text-align: right;\">\n",
        "      <th></th>\n",
        "      <th>TEMP</th>\n",
        "    </tr>\n",
        "    <tr>\n",
        "      <th>year</th>\n",
        "      <th></th>\n",
        "    </tr>\n",
        "  </thead>\n",
        "  <tbody>\n",
        "    <tr>\n",
        "      <th>2010</th>\n",
        "      <td>11.632420</td>\n",
        "    </tr>\n",
        "    <tr>\n",
        "      <th>2011</th>\n",
        "      <td>12.565297</td>\n",
        "    </tr>\n",
        "    <tr>\n",
        "      <th>2012</th>\n",
        "      <td>11.967441</td>\n",
        "    </tr>\n",
        "    <tr>\n",
        "      <th>2013</th>\n",
        "      <td>12.399201</td>\n",
        "    </tr>\n",
        "    <tr>\n",
        "      <th>2014</th>\n",
        "      <td>13.679566</td>\n",
        "    </tr>\n",
        "  </tbody>\n",
        "</table>\n",
        "</div>"
       ],
       "metadata": {},
       "output_type": "pyout",
       "prompt_number": 8,
       "text": [
        "           TEMP\n",
        "year           \n",
        "2010  11.632420\n",
        "2011  12.565297\n",
        "2012  11.967441\n",
        "2013  12.399201\n",
        "2014  13.679566"
       ]
      }
     ],
     "prompt_number": 8
    },
    {
     "cell_type": "markdown",
     "metadata": {},
     "source": [
      "## Transformaci\u00f3n de datos"
     ]
    },
    {
     "cell_type": "markdown",
     "metadata": {},
     "source": [
      "Los atributos `month` y `cbwd` contienen cadenas de caracteres como valores y representan variables categ\u00f3ricas, por lo que seg\u00fan qu\u00e9 tipo de algoritmos de miner\u00eda de datos no podr\u00e1n trabajar con ellas. Por ello, las transformaremos en un conjunto de atributos binarios (un atributo para cada categor\u00eda posible)."
     ]
    },
    {
     "cell_type": "code",
     "collapsed": false,
     "input": [
      "# Mostramos el conjunto de atributos original\n",
      "print list(data)"
     ],
     "language": "python",
     "metadata": {},
     "outputs": [
      {
       "output_type": "stream",
       "stream": "stdout",
       "text": [
        "['No', 'year', 'month', 'day', 'hour', 'pm2.5', 'DEWP', 'TEMP', 'PRES', 'cbwd', 'Iws', 'Is', 'Ir']\n"
       ]
      }
     ],
     "prompt_number": 9
    },
    {
     "cell_type": "code",
     "collapsed": false,
     "input": [
      "# Creamos nuevos atributos binarios para las categor\u00edas utilizadas en las columnas \"month\" y \"cbwd\"\n",
      "data_trans = pd.get_dummies(data, columns=[\"month\", \"cbwd\"], dummy_na=True)"
     ],
     "language": "python",
     "metadata": {},
     "outputs": [],
     "prompt_number": 10
    },
    {
     "cell_type": "code",
     "collapsed": false,
     "input": [
      "# Mostramos el conjunto de atributos despu\u00e9s de la transformaci\u00f3n\n",
      "print list(data_trans)"
     ],
     "language": "python",
     "metadata": {},
     "outputs": [
      {
       "output_type": "stream",
       "stream": "stdout",
       "text": [
        "['No', 'year', 'day', 'hour', 'pm2.5', 'DEWP', 'TEMP', 'PRES', 'Iws', 'Is', 'Ir', 'month_apr', 'month_aug', 'month_dec', 'month_feb', 'month_jan', 'month_jul', 'month_jun', 'month_mar', 'month_may', 'month_nov', 'month_oct', 'month_sept', 'month_nan', 'cbwd_NE', 'cbwd_NW', 'cbwd_SE', 'cbwd_nan']\n"
       ]
      }
     ],
     "prompt_number": 11
    },
    {
     "cell_type": "markdown",
     "metadata": {},
     "source": [
      "Podemos ver un ejemplo de como se han transformado los valores observando algunas muestras concretas. As\u00ed, para las muestras entre las posiciones 10 y 20 y la columna `cbwd`:"
     ]
    },
    {
     "cell_type": "code",
     "collapsed": false,
     "input": [
      "# Mostramos el valor de la columna \"cbwd\" original para las muestras entre las posiciones 10 y 20\n",
      "print data.loc[10:20, [\"cbwd\"]]\n",
      "\n",
      "# Mostramos los valores de las nuevas columnas \"cbwd_NE\", \"cbwd_NW\", \"cbwd_SE\", \"cbwd_nan\"\n",
      "# para las muestras entre las posiciones 10 y 20\n",
      "data_trans.loc[10:20, [\"cbwd_NE\", \"cbwd_NW\", \"cbwd_SE\", \"cbwd_nan\"]]"
     ],
     "language": "python",
     "metadata": {},
     "outputs": [
      {
       "output_type": "stream",
       "stream": "stdout",
       "text": [
        "   cbwd\n",
        "10   NW\n",
        "11   NW\n",
        "12   NW\n",
        "13   NW\n",
        "14   NW\n",
        "15  NaN\n",
        "16   NW\n",
        "17   NW\n",
        "18   NE\n",
        "19   NW\n",
        "20  NaN\n"
       ]
      },
      {
       "html": [
        "<div style=\"max-width:1500px;overflow:auto;\">\n",
        "<table border=\"1\" class=\"dataframe\">\n",
        "  <thead>\n",
        "    <tr style=\"text-align: right;\">\n",
        "      <th></th>\n",
        "      <th>cbwd_NE</th>\n",
        "      <th>cbwd_NW</th>\n",
        "      <th>cbwd_SE</th>\n",
        "      <th>cbwd_nan</th>\n",
        "    </tr>\n",
        "  </thead>\n",
        "  <tbody>\n",
        "    <tr>\n",
        "      <th>10</th>\n",
        "      <td>0</td>\n",
        "      <td>1</td>\n",
        "      <td>0</td>\n",
        "      <td>0</td>\n",
        "    </tr>\n",
        "    <tr>\n",
        "      <th>11</th>\n",
        "      <td>0</td>\n",
        "      <td>1</td>\n",
        "      <td>0</td>\n",
        "      <td>0</td>\n",
        "    </tr>\n",
        "    <tr>\n",
        "      <th>12</th>\n",
        "      <td>0</td>\n",
        "      <td>1</td>\n",
        "      <td>0</td>\n",
        "      <td>0</td>\n",
        "    </tr>\n",
        "    <tr>\n",
        "      <th>13</th>\n",
        "      <td>0</td>\n",
        "      <td>1</td>\n",
        "      <td>0</td>\n",
        "      <td>0</td>\n",
        "    </tr>\n",
        "    <tr>\n",
        "      <th>14</th>\n",
        "      <td>0</td>\n",
        "      <td>1</td>\n",
        "      <td>0</td>\n",
        "      <td>0</td>\n",
        "    </tr>\n",
        "    <tr>\n",
        "      <th>15</th>\n",
        "      <td>0</td>\n",
        "      <td>0</td>\n",
        "      <td>0</td>\n",
        "      <td>1</td>\n",
        "    </tr>\n",
        "    <tr>\n",
        "      <th>16</th>\n",
        "      <td>0</td>\n",
        "      <td>1</td>\n",
        "      <td>0</td>\n",
        "      <td>0</td>\n",
        "    </tr>\n",
        "    <tr>\n",
        "      <th>17</th>\n",
        "      <td>0</td>\n",
        "      <td>1</td>\n",
        "      <td>0</td>\n",
        "      <td>0</td>\n",
        "    </tr>\n",
        "    <tr>\n",
        "      <th>18</th>\n",
        "      <td>1</td>\n",
        "      <td>0</td>\n",
        "      <td>0</td>\n",
        "      <td>0</td>\n",
        "    </tr>\n",
        "    <tr>\n",
        "      <th>19</th>\n",
        "      <td>0</td>\n",
        "      <td>1</td>\n",
        "      <td>0</td>\n",
        "      <td>0</td>\n",
        "    </tr>\n",
        "    <tr>\n",
        "      <th>20</th>\n",
        "      <td>0</td>\n",
        "      <td>0</td>\n",
        "      <td>0</td>\n",
        "      <td>1</td>\n",
        "    </tr>\n",
        "  </tbody>\n",
        "</table>\n",
        "</div>"
       ],
       "metadata": {},
       "output_type": "pyout",
       "prompt_number": 12,
       "text": [
        "    cbwd_NE  cbwd_NW  cbwd_SE  cbwd_nan\n",
        "10        0        1        0         0\n",
        "11        0        1        0         0\n",
        "12        0        1        0         0\n",
        "13        0        1        0         0\n",
        "14        0        1        0         0\n",
        "15        0        0        0         1\n",
        "16        0        1        0         0\n",
        "17        0        1        0         0\n",
        "18        1        0        0         0\n",
        "19        0        1        0         0\n",
        "20        0        0        0         1"
       ]
      }
     ],
     "prompt_number": 12
    },
    {
     "cell_type": "markdown",
     "metadata": {},
     "source": [
      "## Limpieza de datos\n",
      "\n",
      "Uno de los problemas que se tratan en la limpieza de datos es el tratamiento de valores perdidos. Existen m\u00faltiples estrategias para tratar con estos valores, desde directamente eliminar las muestras que contienen alg\u00fan valor perdido hasta sustituir los valores perdidos por alg\u00fan otro valor (por ejemplo, para atributos num\u00e9ricos, la media del atributo en el resto de muestras). Veamos un ejemplo de sustituci\u00f3n de valores perdidos por la media del atributo."
     ]
    },
    {
     "cell_type": "markdown",
     "metadata": {},
     "source": [
      "En primer lugar, identificamos los atributos que tienen alg\u00fan valor NaN:"
     ]
    },
    {
     "cell_type": "code",
     "collapsed": false,
     "input": [
      "# Definimos una funci\u00f3n que nos retorna un valor booleano indicando si alguno de los valores\n",
      "# de la serie es nan\n",
      "def any_is_null(x):\n",
      "    return any(pd.isnull(x))\n",
      "\n",
      "# Aplicamos la funci\u00f3n any_is_null a cada columna del dataframe \n",
      "print data_trans.apply(any_is_null)"
     ],
     "language": "python",
     "metadata": {},
     "outputs": [
      {
       "output_type": "stream",
       "stream": "stdout",
       "text": [
        "No            False\n",
        "year          False\n",
        "day           False\n",
        "hour          False\n",
        "pm2.5          True\n",
        "DEWP          False\n",
        "TEMP          False\n",
        "PRES          False\n",
        "Iws           False\n",
        "Is            False\n",
        "Ir            False\n",
        "month_apr     False\n",
        "month_aug     False\n",
        "month_dec     False\n",
        "month_feb     False\n",
        "month_jan     False\n",
        "month_jul     False\n",
        "month_jun     False\n",
        "month_mar     False\n",
        "month_may     False\n",
        "month_nov     False\n",
        "month_oct     False\n",
        "month_sept    False\n",
        "month_nan     False\n",
        "cbwd_NE       False\n",
        "cbwd_NW       False\n",
        "cbwd_SE       False\n",
        "cbwd_nan      False\n",
        "dtype: bool\n"
       ]
      }
     ],
     "prompt_number": 13
    },
    {
     "cell_type": "markdown",
     "metadata": {},
     "source": [
      "Notad que aunque la columna `cbwd` original conten\u00eda valores perdidos, despu\u00e9s de la transformaci\u00f3n ya no los tenemos ya que estos se encuentran representados con valores binarios en la columna `cbwd_nan`. As\u00ed, \u00fanicamente ser\u00e1 necesario tratar los valores perdidos de la columna `pm2.5`.\n",
      "\n",
      "Procedemos a sustituir los valores perdidos de la columa `pm2.5` por la media de la columna utilizando la librer\u00eda sklearn (aunque tambi\u00e9n podr\u00edamos utilizar las funciones de indexaci\u00f3n de pandas para conseguir el mismo objetivo)."
     ]
    },
    {
     "cell_type": "code",
     "collapsed": false,
     "input": [
      "# Importamos Imputer del m\u00f3dulo de preprocesamiento de la librer\u00eda sklearn\n",
      "from sklearn.preprocessing import Imputer\n",
      "\n",
      "# Sustituiremos los valores perdidos por la media de la columna (el par\u00e1metro axis=0 indica que calcularemos \n",
      "# la media sobre la columna)\n",
      "imp = Imputer(strategy='mean', axis=0)\n",
      "\n",
      "# Aplicamos la transformaci\u00f3n a la columna pm2.5\n",
      "data_trans[\"pm2.5\"] = imp.fit_transform(data_trans[[\"pm2.5\"]]).ravel()\n"
     ],
     "language": "python",
     "metadata": {},
     "outputs": [],
     "prompt_number": 14
    },
    {
     "cell_type": "code",
     "collapsed": false,
     "input": [
      "# Comprobamos que se han eliminado los valores perdidos\n",
      "print data_trans.apply(any_is_null)"
     ],
     "language": "python",
     "metadata": {},
     "outputs": [
      {
       "output_type": "stream",
       "stream": "stdout",
       "text": [
        "No            False\n",
        "year          False\n",
        "day           False\n",
        "hour          False\n",
        "pm2.5         False\n",
        "DEWP          False\n",
        "TEMP          False\n",
        "PRES          False\n",
        "Iws           False\n",
        "Is            False\n",
        "Ir            False\n",
        "month_apr     False\n",
        "month_aug     False\n",
        "month_dec     False\n",
        "month_feb     False\n",
        "month_jan     False\n",
        "month_jul     False\n",
        "month_jun     False\n",
        "month_mar     False\n",
        "month_may     False\n",
        "month_nov     False\n",
        "month_oct     False\n",
        "month_sept    False\n",
        "month_nan     False\n",
        "cbwd_NE       False\n",
        "cbwd_NW       False\n",
        "cbwd_SE       False\n",
        "cbwd_nan      False\n",
        "dtype: bool\n"
       ]
      }
     ],
     "prompt_number": 15
    },
    {
     "cell_type": "markdown",
     "metadata": {},
     "source": [
      "## Normalizaci\u00f3n de datos\n",
      "\n",
      "Una de las alternativas para normalizar los datos consiste en centrar los valores para que la media del atributo se encuentre cercana a cero y escalarlos para que la varianza sea 1. Veamos como realizar este proceso sobre el atributo que contiene la presi\u00f3n atmosf\u00e9rica."
     ]
    },
    {
     "cell_type": "code",
     "collapsed": false,
     "input": [
      "# Observamos los estad\u00edsticos b\u00e1sicos originales del atributo \"PRES\"\n",
      "data_trans[\"PRES\"].describe()"
     ],
     "language": "python",
     "metadata": {},
     "outputs": [
      {
       "metadata": {},
       "output_type": "pyout",
       "prompt_number": 16,
       "text": [
        "count    43824.000000\n",
        "mean      1016.447654\n",
        "std         10.268698\n",
        "min        991.000000\n",
        "25%       1008.000000\n",
        "50%       1016.000000\n",
        "75%       1025.000000\n",
        "max       1046.000000\n",
        "Name: PRES, dtype: float64"
       ]
      }
     ],
     "prompt_number": 16
    },
    {
     "cell_type": "code",
     "collapsed": false,
     "input": [
      "# Importamos StandardScaler del m\u00f3dulo de preprocesamiento de la librer\u00eda sklearn\n",
      "from sklearn.preprocessing import StandardScaler\n",
      "\n",
      "# Utilizamos el StandardScaler de sklearn para normalizar los valores del atributo \"PRES\"\n",
      "data_trans.loc[:, [\"PRES\"]] = StandardScaler().fit_transform(data_trans.loc[:, [\"PRES\"]])"
     ],
     "language": "python",
     "metadata": {},
     "outputs": [],
     "prompt_number": 17
    },
    {
     "cell_type": "code",
     "collapsed": false,
     "input": [
      "# Observamos los estad\u00edsticos b\u00e1sicos del atributo \"PRES\" despu\u00e9s de la transformaci\u00f3n\n",
      "data_trans[\"PRES\"].describe()\n"
     ],
     "language": "python",
     "metadata": {},
     "outputs": [
      {
       "metadata": {},
       "output_type": "pyout",
       "prompt_number": 18,
       "text": [
        "count    4.382400e+04\n",
        "mean     4.851095e-15\n",
        "std      1.000011e+00\n",
        "min     -2.478206e+00\n",
        "25%     -8.226701e-01\n",
        "50%     -4.359456e-02\n",
        "75%      8.328654e-01\n",
        "max      2.877939e+00\n",
        "Name: PRES, dtype: float64"
       ]
      }
     ],
     "prompt_number": 18
    },
    {
     "cell_type": "markdown",
     "metadata": {},
     "source": [
      "Notad como, efectivamente, la media se aproxima ahora al valor 0 y la desviaci\u00f3n a 1."
     ]
    },
    {
     "cell_type": "markdown",
     "metadata": {},
     "source": [
      "## Reducci\u00f3n de dimensiones\n",
      "\n",
      "Una opci\u00f3n sencilla para reducir dimensiones consiste en seleccionar un conjunto de caracter\u00edsticas de inter\u00e9s. Podemos realizar esta selecci\u00f3n de manera sencilla gracias a las funciones que disponemos sobre los dataframes de pandas."
     ]
    },
    {
     "cell_type": "code",
     "collapsed": false,
     "input": [
      "# Mostramos los atributos actuales\n",
      "print list(data_trans)"
     ],
     "language": "python",
     "metadata": {},
     "outputs": [
      {
       "output_type": "stream",
       "stream": "stdout",
       "text": [
        "['No', 'year', 'day', 'hour', 'pm2.5', 'DEWP', 'TEMP', 'PRES', 'Iws', 'Is', 'Ir', 'month_apr', 'month_aug', 'month_dec', 'month_feb', 'month_jan', 'month_jul', 'month_jun', 'month_mar', 'month_may', 'month_nov', 'month_oct', 'month_sept', 'month_nan', 'cbwd_NE', 'cbwd_NW', 'cbwd_SE', 'cbwd_nan']\n"
       ]
      }
     ],
     "prompt_number": 19
    },
    {
     "cell_type": "code",
     "collapsed": false,
     "input": [
      "# Eliminamos el atributo \"DEWP\"\n",
      "data_trans = data_trans.drop(\"DEWP\", axis=1)"
     ],
     "language": "python",
     "metadata": {},
     "outputs": [],
     "prompt_number": 20
    },
    {
     "cell_type": "code",
     "collapsed": false,
     "input": [
      "# Mostramos los atributos despu\u00e9s del cambio\n",
      "print list(data_trans)"
     ],
     "language": "python",
     "metadata": {},
     "outputs": [
      {
       "output_type": "stream",
       "stream": "stdout",
       "text": [
        "['No', 'year', 'day', 'hour', 'pm2.5', 'TEMP', 'PRES', 'Iws', 'Is', 'Ir', 'month_apr', 'month_aug', 'month_dec', 'month_feb', 'month_jan', 'month_jul', 'month_jun', 'month_mar', 'month_may', 'month_nov', 'month_oct', 'month_sept', 'month_nan', 'cbwd_NE', 'cbwd_NW', 'cbwd_SE', 'cbwd_nan']\n"
       ]
      }
     ],
     "prompt_number": 21
    },
    {
     "cell_type": "markdown",
     "metadata": {},
     "source": [
      "Un grupo de t\u00e9cnicas de reducci\u00f3n de dimensiones muy desarrollado se centra en la extracci\u00f3n de caracter\u00edsticas. Aunque conceptualmente estos procesos se escapan de este curso introductorio, lo cierto es que es f\u00e1cil aplicar estas t\u00e9cnicas con sklearn. El lector interesado puede consultar [los ejemplos](http://scikit-learn.org/stable/modules/generated/sklearn.decomposition.PCA.html#examples-using-sklearn-decomposition-pca) de la propia documentaci\u00f3n de sklearn."
     ]
    },
    {
     "cell_type": "markdown",
     "metadata": {},
     "source": [
      "## Reducci\u00f3n de muestras\n",
      "\n",
      "Una alternativa sencilla para realizar una reducci\u00f3n de las muestras disponibles consiste en seleccionar de manera aleatoria uniforme un subconjunto de muestras del dataset."
     ]
    },
    {
     "cell_type": "code",
     "collapsed": false,
     "input": [
      "# Mostramos el n\u00famero de muestras original\n",
      "print len(data_trans)"
     ],
     "language": "python",
     "metadata": {},
     "outputs": [
      {
       "output_type": "stream",
       "stream": "stdout",
       "text": [
        "43824\n"
       ]
      }
     ],
     "prompt_number": 22
    },
    {
     "cell_type": "code",
     "collapsed": false,
     "input": [
      "# Seleccionamos un 25% de las muestras de manera aleatoria\n",
      "sampled_data = data_trans.sample(frac=0.25)"
     ],
     "language": "python",
     "metadata": {},
     "outputs": [],
     "prompt_number": 23
    },
    {
     "cell_type": "code",
     "collapsed": false,
     "input": [
      "# Mostramos el n\u00famero de muestras seleccionado\n",
      "print len(sampled_data)\n",
      "\n",
      "# Mostramos las 5 primeras muestras seleccionadas\n",
      "sampled_data.head(n=5)"
     ],
     "language": "python",
     "metadata": {},
     "outputs": [
      {
       "output_type": "stream",
       "stream": "stdout",
       "text": [
        "10956\n"
       ]
      },
      {
       "html": [
        "<div style=\"max-width:1500px;overflow:auto;\">\n",
        "<table border=\"1\" class=\"dataframe\">\n",
        "  <thead>\n",
        "    <tr style=\"text-align: right;\">\n",
        "      <th></th>\n",
        "      <th>No</th>\n",
        "      <th>year</th>\n",
        "      <th>day</th>\n",
        "      <th>hour</th>\n",
        "      <th>pm2.5</th>\n",
        "      <th>TEMP</th>\n",
        "      <th>PRES</th>\n",
        "      <th>Iws</th>\n",
        "      <th>Is</th>\n",
        "      <th>Ir</th>\n",
        "      <th>...</th>\n",
        "      <th>month_mar</th>\n",
        "      <th>month_may</th>\n",
        "      <th>month_nov</th>\n",
        "      <th>month_oct</th>\n",
        "      <th>month_sept</th>\n",
        "      <th>month_nan</th>\n",
        "      <th>cbwd_NE</th>\n",
        "      <th>cbwd_NW</th>\n",
        "      <th>cbwd_SE</th>\n",
        "      <th>cbwd_nan</th>\n",
        "    </tr>\n",
        "  </thead>\n",
        "  <tbody>\n",
        "    <tr>\n",
        "      <th>6045</th>\n",
        "      <td>6046</td>\n",
        "      <td>2010</td>\n",
        "      <td>9</td>\n",
        "      <td>21</td>\n",
        "      <td>144</td>\n",
        "      <td>21</td>\n",
        "      <td>-0.627901</td>\n",
        "      <td>31.74</td>\n",
        "      <td>0</td>\n",
        "      <td>0</td>\n",
        "      <td>...</td>\n",
        "      <td>0</td>\n",
        "      <td>0</td>\n",
        "      <td>0</td>\n",
        "      <td>0</td>\n",
        "      <td>1</td>\n",
        "      <td>0</td>\n",
        "      <td>0</td>\n",
        "      <td>0</td>\n",
        "      <td>1</td>\n",
        "      <td>0</td>\n",
        "    </tr>\n",
        "    <tr>\n",
        "      <th>37715</th>\n",
        "      <td>37716</td>\n",
        "      <td>2014</td>\n",
        "      <td>21</td>\n",
        "      <td>11</td>\n",
        "      <td>39</td>\n",
        "      <td>22</td>\n",
        "      <td>0.151174</td>\n",
        "      <td>1.79</td>\n",
        "      <td>0</td>\n",
        "      <td>0</td>\n",
        "      <td>...</td>\n",
        "      <td>0</td>\n",
        "      <td>0</td>\n",
        "      <td>0</td>\n",
        "      <td>0</td>\n",
        "      <td>0</td>\n",
        "      <td>0</td>\n",
        "      <td>1</td>\n",
        "      <td>0</td>\n",
        "      <td>0</td>\n",
        "      <td>0</td>\n",
        "    </tr>\n",
        "    <tr>\n",
        "      <th>4802</th>\n",
        "      <td>4803</td>\n",
        "      <td>2010</td>\n",
        "      <td>20</td>\n",
        "      <td>2</td>\n",
        "      <td>53</td>\n",
        "      <td>22</td>\n",
        "      <td>-1.309592</td>\n",
        "      <td>1.79</td>\n",
        "      <td>0</td>\n",
        "      <td>4</td>\n",
        "      <td>...</td>\n",
        "      <td>0</td>\n",
        "      <td>0</td>\n",
        "      <td>0</td>\n",
        "      <td>0</td>\n",
        "      <td>0</td>\n",
        "      <td>0</td>\n",
        "      <td>1</td>\n",
        "      <td>0</td>\n",
        "      <td>0</td>\n",
        "      <td>0</td>\n",
        "    </tr>\n",
        "    <tr>\n",
        "      <th>3072</th>\n",
        "      <td>3073</td>\n",
        "      <td>2010</td>\n",
        "      <td>9</td>\n",
        "      <td>0</td>\n",
        "      <td>139</td>\n",
        "      <td>15</td>\n",
        "      <td>-0.920055</td>\n",
        "      <td>1.79</td>\n",
        "      <td>0</td>\n",
        "      <td>1</td>\n",
        "      <td>...</td>\n",
        "      <td>0</td>\n",
        "      <td>1</td>\n",
        "      <td>0</td>\n",
        "      <td>0</td>\n",
        "      <td>0</td>\n",
        "      <td>0</td>\n",
        "      <td>0</td>\n",
        "      <td>1</td>\n",
        "      <td>0</td>\n",
        "      <td>0</td>\n",
        "    </tr>\n",
        "    <tr>\n",
        "      <th>41377</th>\n",
        "      <td>41378</td>\n",
        "      <td>2014</td>\n",
        "      <td>21</td>\n",
        "      <td>1</td>\n",
        "      <td>200</td>\n",
        "      <td>20</td>\n",
        "      <td>-0.238363</td>\n",
        "      <td>15.21</td>\n",
        "      <td>0</td>\n",
        "      <td>0</td>\n",
        "      <td>...</td>\n",
        "      <td>0</td>\n",
        "      <td>0</td>\n",
        "      <td>0</td>\n",
        "      <td>0</td>\n",
        "      <td>1</td>\n",
        "      <td>0</td>\n",
        "      <td>0</td>\n",
        "      <td>0</td>\n",
        "      <td>1</td>\n",
        "      <td>0</td>\n",
        "    </tr>\n",
        "  </tbody>\n",
        "</table>\n",
        "<p>5 rows \u00d7 27 columns</p>\n",
        "</div>"
       ],
       "metadata": {},
       "output_type": "pyout",
       "prompt_number": 24,
       "text": [
        "          No  year  day  hour  pm2.5  TEMP      PRES    Iws  Is  Ir    ...     \\\n",
        "6045    6046  2010    9    21    144    21 -0.627901  31.74   0   0    ...      \n",
        "37715  37716  2014   21    11     39    22  0.151174   1.79   0   0    ...      \n",
        "4802    4803  2010   20     2     53    22 -1.309592   1.79   0   4    ...      \n",
        "3072    3073  2010    9     0    139    15 -0.920055   1.79   0   1    ...      \n",
        "41377  41378  2014   21     1    200    20 -0.238363  15.21   0   0    ...      \n",
        "\n",
        "       month_mar  month_may  month_nov  month_oct  month_sept  month_nan  \\\n",
        "6045           0          0          0          0           1          0   \n",
        "37715          0          0          0          0           0          0   \n",
        "4802           0          0          0          0           0          0   \n",
        "3072           0          1          0          0           0          0   \n",
        "41377          0          0          0          0           1          0   \n",
        "\n",
        "       cbwd_NE  cbwd_NW  cbwd_SE  cbwd_nan  \n",
        "6045         0        0        1         0  \n",
        "37715        1        0        0         0  \n",
        "4802         1        0        0         0  \n",
        "3072         0        1        0         0  \n",
        "41377        0        0        1         0  \n",
        "\n",
        "[5 rows x 27 columns]"
       ]
      }
     ],
     "prompt_number": 24
    },
    {
     "cell_type": "markdown",
     "metadata": {},
     "source": [
      "Notad que el dataframe conserva el n\u00famero de atributos original, pero solo contiene un 25% de las muestras originales."
     ]
    },
    {
     "cell_type": "markdown",
     "metadata": {},
     "source": [
      "## Discretizaci\u00f3n\n",
      "\n",
      "En ocasiones nos interesar\u00e1 convertir un atributo continuo en uno de discreto. Una manera de hacerlo es divir el espacio de posibles valores que toma el atributo en `n` _bins_ o intervalos del mismo tama\u00f1o y asignar cada muestra al intervalo al que pertenece. Veamos un ejemplo discretizando el atributo `Iws` en 5 intervalos del mismo tama\u00f1o."
     ]
    },
    {
     "cell_type": "code",
     "collapsed": false,
     "input": [
      "# Observamos los estad\u00edsticos b\u00e1sicos del atributo \"Iws\"\n",
      "data_trans[\"Iws\"].describe()"
     ],
     "language": "python",
     "metadata": {},
     "outputs": [
      {
       "metadata": {},
       "output_type": "pyout",
       "prompt_number": 25,
       "text": [
        "count    43824.000000\n",
        "mean        23.889140\n",
        "std         50.010635\n",
        "min          0.450000\n",
        "25%          1.790000\n",
        "50%          5.370000\n",
        "75%         21.910000\n",
        "max        585.600000\n",
        "Name: Iws, dtype: float64"
       ]
      }
     ],
     "prompt_number": 25
    },
    {
     "cell_type": "code",
     "collapsed": false,
     "input": [
      "# Creamos un nuevo atributo \"Iws_disc\" que contiene la discretizaci\u00f3n de \"Iws\"\n",
      "data_trans[\"Iws_disc\"] = pd.cut(data_trans[\"Iws\"], 5)"
     ],
     "language": "python",
     "metadata": {},
     "outputs": [],
     "prompt_number": 26
    },
    {
     "cell_type": "code",
     "collapsed": false,
     "input": [
      "# Visualizamos el contenido de los atributos \"Iws\" y \"Iws_disc\" para un subconjunto de muestras \n",
      "# para observar el resultado\n",
      "data_trans.loc[80:90, [\"Iws\", \"Iws_disc\"]]"
     ],
     "language": "python",
     "metadata": {},
     "outputs": [
      {
       "html": [
        "<div style=\"max-width:1500px;overflow:auto;\">\n",
        "<table border=\"1\" class=\"dataframe\">\n",
        "  <thead>\n",
        "    <tr style=\"text-align: right;\">\n",
        "      <th></th>\n",
        "      <th>Iws</th>\n",
        "      <th>Iws_disc</th>\n",
        "    </tr>\n",
        "  </thead>\n",
        "  <tbody>\n",
        "    <tr>\n",
        "      <th>80</th>\n",
        "      <td>80.90</td>\n",
        "      <td>(-0.135, 117.48]</td>\n",
        "    </tr>\n",
        "    <tr>\n",
        "      <th>81</th>\n",
        "      <td>90.73</td>\n",
        "      <td>(-0.135, 117.48]</td>\n",
        "    </tr>\n",
        "    <tr>\n",
        "      <th>82</th>\n",
        "      <td>100.56</td>\n",
        "      <td>(-0.135, 117.48]</td>\n",
        "    </tr>\n",
        "    <tr>\n",
        "      <th>83</th>\n",
        "      <td>108.61</td>\n",
        "      <td>(-0.135, 117.48]</td>\n",
        "    </tr>\n",
        "    <tr>\n",
        "      <th>84</th>\n",
        "      <td>117.55</td>\n",
        "      <td>(117.48, 234.51]</td>\n",
        "    </tr>\n",
        "    <tr>\n",
        "      <th>85</th>\n",
        "      <td>127.38</td>\n",
        "      <td>(117.48, 234.51]</td>\n",
        "    </tr>\n",
        "    <tr>\n",
        "      <th>86</th>\n",
        "      <td>136.32</td>\n",
        "      <td>(117.48, 234.51]</td>\n",
        "    </tr>\n",
        "    <tr>\n",
        "      <th>87</th>\n",
        "      <td>145.26</td>\n",
        "      <td>(117.48, 234.51]</td>\n",
        "    </tr>\n",
        "    <tr>\n",
        "      <th>88</th>\n",
        "      <td>152.41</td>\n",
        "      <td>(117.48, 234.51]</td>\n",
        "    </tr>\n",
        "    <tr>\n",
        "      <th>89</th>\n",
        "      <td>159.56</td>\n",
        "      <td>(117.48, 234.51]</td>\n",
        "    </tr>\n",
        "    <tr>\n",
        "      <th>90</th>\n",
        "      <td>165.37</td>\n",
        "      <td>(117.48, 234.51]</td>\n",
        "    </tr>\n",
        "  </tbody>\n",
        "</table>\n",
        "</div>"
       ],
       "metadata": {},
       "output_type": "pyout",
       "prompt_number": 27,
       "text": [
        "       Iws          Iws_disc\n",
        "80   80.90  (-0.135, 117.48]\n",
        "81   90.73  (-0.135, 117.48]\n",
        "82  100.56  (-0.135, 117.48]\n",
        "83  108.61  (-0.135, 117.48]\n",
        "84  117.55  (117.48, 234.51]\n",
        "85  127.38  (117.48, 234.51]\n",
        "86  136.32  (117.48, 234.51]\n",
        "87  145.26  (117.48, 234.51]\n",
        "88  152.41  (117.48, 234.51]\n",
        "89  159.56  (117.48, 234.51]\n",
        "90  165.37  (117.48, 234.51]"
       ]
      }
     ],
     "prompt_number": 27
    },
    {
     "cell_type": "markdown",
     "metadata": {},
     "source": [
      "Por defecto la funci\u00f3n `cut` utiliza el intervalo como valor del nuevo atributo. Podemos asignar valores arbitrarios al nuevo atributo, por ejemplo:"
     ]
    },
    {
     "cell_type": "code",
     "collapsed": false,
     "input": [
      "# Designamos 5 nombres para los intervalos\n",
      "group_names = ['Very Low', 'Low', 'Medium', 'High', 'Very High']"
     ],
     "language": "python",
     "metadata": {},
     "outputs": [],
     "prompt_number": 28
    },
    {
     "cell_type": "code",
     "collapsed": false,
     "input": [
      "# Creamos un nuevo atributo \"Iws_disc_named\" discretizando de nuevo \"Iws\" con 5 intervalos\n",
      "# del mismo tama\u00f1o pero usando ahora las etiquetas definidas\n",
      "data_trans[\"Iws_disc_named\"] = pd.cut(data_trans[\"Iws\"], 5, labels = group_names)"
     ],
     "language": "python",
     "metadata": {},
     "outputs": [],
     "prompt_number": 29
    },
    {
     "cell_type": "code",
     "collapsed": false,
     "input": [
      "# Visualizamos el contenido de los atributos \"Iws\", \"Iws_disc\" y \"Iws_disc_named\" \n",
      "# para un subconjunto de muestras para observar el resultado\n",
      "data_trans.loc[80:90, [\"Iws\", \"Iws_disc\", \"Iws_disc_named\"]]"
     ],
     "language": "python",
     "metadata": {},
     "outputs": [
      {
       "html": [
        "<div style=\"max-width:1500px;overflow:auto;\">\n",
        "<table border=\"1\" class=\"dataframe\">\n",
        "  <thead>\n",
        "    <tr style=\"text-align: right;\">\n",
        "      <th></th>\n",
        "      <th>Iws</th>\n",
        "      <th>Iws_disc</th>\n",
        "      <th>Iws_disc_named</th>\n",
        "    </tr>\n",
        "  </thead>\n",
        "  <tbody>\n",
        "    <tr>\n",
        "      <th>80</th>\n",
        "      <td>80.90</td>\n",
        "      <td>(-0.135, 117.48]</td>\n",
        "      <td>Very Low</td>\n",
        "    </tr>\n",
        "    <tr>\n",
        "      <th>81</th>\n",
        "      <td>90.73</td>\n",
        "      <td>(-0.135, 117.48]</td>\n",
        "      <td>Very Low</td>\n",
        "    </tr>\n",
        "    <tr>\n",
        "      <th>82</th>\n",
        "      <td>100.56</td>\n",
        "      <td>(-0.135, 117.48]</td>\n",
        "      <td>Very Low</td>\n",
        "    </tr>\n",
        "    <tr>\n",
        "      <th>83</th>\n",
        "      <td>108.61</td>\n",
        "      <td>(-0.135, 117.48]</td>\n",
        "      <td>Very Low</td>\n",
        "    </tr>\n",
        "    <tr>\n",
        "      <th>84</th>\n",
        "      <td>117.55</td>\n",
        "      <td>(117.48, 234.51]</td>\n",
        "      <td>Low</td>\n",
        "    </tr>\n",
        "    <tr>\n",
        "      <th>85</th>\n",
        "      <td>127.38</td>\n",
        "      <td>(117.48, 234.51]</td>\n",
        "      <td>Low</td>\n",
        "    </tr>\n",
        "    <tr>\n",
        "      <th>86</th>\n",
        "      <td>136.32</td>\n",
        "      <td>(117.48, 234.51]</td>\n",
        "      <td>Low</td>\n",
        "    </tr>\n",
        "    <tr>\n",
        "      <th>87</th>\n",
        "      <td>145.26</td>\n",
        "      <td>(117.48, 234.51]</td>\n",
        "      <td>Low</td>\n",
        "    </tr>\n",
        "    <tr>\n",
        "      <th>88</th>\n",
        "      <td>152.41</td>\n",
        "      <td>(117.48, 234.51]</td>\n",
        "      <td>Low</td>\n",
        "    </tr>\n",
        "    <tr>\n",
        "      <th>89</th>\n",
        "      <td>159.56</td>\n",
        "      <td>(117.48, 234.51]</td>\n",
        "      <td>Low</td>\n",
        "    </tr>\n",
        "    <tr>\n",
        "      <th>90</th>\n",
        "      <td>165.37</td>\n",
        "      <td>(117.48, 234.51]</td>\n",
        "      <td>Low</td>\n",
        "    </tr>\n",
        "  </tbody>\n",
        "</table>\n",
        "</div>"
       ],
       "metadata": {},
       "output_type": "pyout",
       "prompt_number": 30,
       "text": [
        "       Iws          Iws_disc Iws_disc_named\n",
        "80   80.90  (-0.135, 117.48]       Very Low\n",
        "81   90.73  (-0.135, 117.48]       Very Low\n",
        "82  100.56  (-0.135, 117.48]       Very Low\n",
        "83  108.61  (-0.135, 117.48]       Very Low\n",
        "84  117.55  (117.48, 234.51]            Low\n",
        "85  127.38  (117.48, 234.51]            Low\n",
        "86  136.32  (117.48, 234.51]            Low\n",
        "87  145.26  (117.48, 234.51]            Low\n",
        "88  152.41  (117.48, 234.51]            Low\n",
        "89  159.56  (117.48, 234.51]            Low\n",
        "90  165.37  (117.48, 234.51]            Low"
       ]
      }
     ],
     "prompt_number": 30
    }
   ],
   "metadata": {}
  }
 ]
}